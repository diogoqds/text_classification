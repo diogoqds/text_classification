{
 "cells": [
  {
   "cell_type": "code",
   "execution_count": 58,
   "metadata": {},
   "outputs": [
    {
     "name": "stdout",
     "output_type": "stream",
     "text": [
      "   id  pick_count                                            content  \\\n",
      "0  11           0  A forte ligação dos cães com o ser humano desp...   \n",
      "1  12           0  Os chamados muros da gentileza estão promovend...   \n",
      "2   9           0  Alguns de nós sabem a sorte que é ter um irmão...   \n",
      "3   6           0               Temos muito o que aprender com elas.   \n",
      "4   1           0  Esqueça o que te disseram sobre a zona de conf...   \n",
      "\n",
      "                                               title    Label_Train  \n",
      "0  Há mais de 10 anos, dupla de cães 🐶 acompanha ...        Animais  \n",
      "1  Muros da gentileza ajudam desabrigados e famíl...  Solidariedade  \n",
      "2  20 fotos maravilhosas mostrando a alegria de t...        Familia  \n",
      "3  13 razões pelas quais crianças são bem mais es...       Criancas  \n",
      "4  Ex-executiva fala sobre vida sem propósito - I...      Proposito  \n"
     ]
    }
   ],
   "source": [
    "# -*- coding: utf-8 -*-\n",
    "\"\"\"\n",
    "Created on Fri 21 2020\n",
    "@author: Thiago Pinho\n",
    "\"\"\"\n",
    "\n",
    "# -*- coding: utf-8 -*-\n",
    "\"\"\"\n",
    "Created on Fri 21 2020\n",
    "@author: Thiago Pinho\n",
    "\"\"\"\n",
    "\n",
    "from sklearn.preprocessing import LabelEncoder\n",
    "from sklearn.svm import LinearSVC\n",
    "from sklearn.model_selection import train_test_split\n",
    "from sklearn.ensemble import RandomForestRegressor\n",
    "import pandas as pd\n",
    "import numpy as np\n",
    "import spacy\n",
    "\n",
    "VECTOR_MODEL_NAME = 'pt_core_news_sm'\n",
    "RELATIVE_PATH_TO_CSV = \"./assets/datasets/ribon/Feeds_Label.csv\"\n",
    "\n",
    "# load the dataset\n",
    "df_ribon_news = pd.read_csv(RELATIVE_PATH_TO_CSV)\n",
    "print(df_ribon_news.head())"
   ]
  },
  {
   "cell_type": "code",
   "execution_count": 59,
   "metadata": {},
   "outputs": [
    {
     "name": "stdout",
     "output_type": "stream",
     "text": [
      "   ID  PICK_COUNT                                            CONTENT  \\\n",
      "0  11           0  A forte ligação dos cães com o ser humano desp...   \n",
      "1  12           0  Os chamados muros da gentileza estão promovend...   \n",
      "2   9           0  Alguns de nós sabem a sorte que é ter um irmão...   \n",
      "3   6           0               Temos muito o que aprender com elas.   \n",
      "4   1           0  Esqueça o que te disseram sobre a zona de conf...   \n",
      "\n",
      "                                               TITLE    LABEL_TRAIN  \n",
      "0  Há mais de 10 anos, dupla de cães 🐶 acompanha ...        ANIMAIS  \n",
      "1  Muros da gentileza ajudam desabrigados e famíl...  SOLIDARIEDADE  \n",
      "2  20 fotos maravilhosas mostrando a alegria de t...        FAMILIA  \n",
      "3  13 razões pelas quais crianças são bem mais es...       CRIANCAS  \n",
      "4  Ex-executiva fala sobre vida sem propósito - I...      PROPOSITO  \n"
     ]
    }
   ],
   "source": [
    "df_ribon_news.columns = map(lambda x: str(x).upper(), df_ribon_news.columns)\n",
    "df_ribon_news['LABEL_TRAIN'] = df_ribon_news['LABEL_TRAIN'].str.upper()\n",
    "''' Converting all labels to uppercase '''\n",
    "print(df_ribon_news.head())"
   ]
  },
  {
   "cell_type": "code",
   "execution_count": 60,
   "metadata": {},
   "outputs": [
    {
     "name": "stdout",
     "output_type": "stream",
     "text": [
      "ANIMAIS:  67\n",
      "SOLIDARIEDADE:  94\n",
      "FAMILIA:  19\n",
      "CRIANCAS:  19\n",
      "PROPOSITO:  86\n",
      "DIVERSIDADE:  72\n",
      "EDUCACAO:  66\n",
      "ECOLOGIA:  129\n",
      "SAUDE:  24\n",
      "IDOSOS:  15\n",
      "CIENCIA:  31\n",
      "CELEBRACAO:  56\n",
      "ETNIAS:  65\n",
      "ESPORTE:  34\n",
      "CULTURA:  79\n",
      "EMPREENDEDORISMO:  32\n"
     ]
    }
   ],
   "source": [
    "# Viewing frequencies\n",
    "for label in df_ribon_news['LABEL_TRAIN'].unique():\n",
    "    print(label + \": \", len(df_ribon_news[df_ribon_news.LABEL_TRAIN == label]))\n"
   ]
  },
  {
   "cell_type": "code",
   "execution_count": 62,
   "metadata": {},
   "outputs": [
    {
     "name": "stdout",
     "output_type": "stream",
     "text": [
      "   ID  PICK_COUNT                                            CONTENT  \\\n",
      "0  11           0  A forte ligação dos cães com o ser humano desp...   \n",
      "1  12           0  Os chamados muros da gentileza estão promovend...   \n",
      "2   9           0  Alguns de nós sabem a sorte que é ter um irmão...   \n",
      "3   6           0               Temos muito o que aprender com elas.   \n",
      "4   1           0  Esqueça o que te disseram sobre a zona de conf...   \n",
      "\n",
      "                                               TITLE  LABEL_TRAIN  \n",
      "0  Há mais de 10 anos, dupla de cães 🐶 acompanha ...            0  \n",
      "1  Muros da gentileza ajudam desabrigados e famíl...           15  \n",
      "2  20 fotos maravilhosas mostrando a alegria de t...           11  \n",
      "3  13 razões pelas quais crianças são bem mais es...            3  \n",
      "4  Ex-executiva fala sobre vida sem propósito - I...           13  \n"
     ]
    }
   ],
   "source": [
    "# For simple label encoding\n",
    "# All categorical columns\n",
    "categorical_cols = ['LABEL_TRAIN']\n",
    "\n",
    "label_df_ribon_news = df_ribon_news\n",
    "\n",
    "# Apply label encoder\n",
    "label_encoder = LabelEncoder()\n",
    "for col in categorical_cols:\n",
    "    label_df_ribon_news[col] = label_encoder.fit_transform(df_ribon_news[col])\n",
    "\n",
    "print(label_df_ribon_news.head())"
   ]
  },
  {
   "cell_type": "code",
   "execution_count": 56,
   "metadata": {},
   "outputs": [
    {
     "data": {
      "text/plain": [
       "(888, 96)"
      ]
     },
     "execution_count": 56,
     "metadata": {},
     "output_type": "execute_result"
    }
   ],
   "source": [
    "# Load the large model to get the vectors\n",
    "nlp = spacy.load(VECTOR_MODEL_NAME)\n",
    "\n",
    "# We just want the vectors so we can turn off other models in the pipeline\n",
    "with nlp.disable_pipes():\n",
    "    vectors = np.array([nlp(str(news.CONTENT)).vector for idx, news in df_ribon_news.iterrows()])\n",
    "    \n",
    "vectors.shape\n"
   ]
  },
  {
   "cell_type": "code",
   "execution_count": 63,
   "metadata": {},
   "outputs": [
    {
     "name": "stdout",
     "output_type": "stream",
     "text": [
      "Model test accuracy: 16.854%\n"
     ]
    }
   ],
   "source": [
    "# Training models\n",
    "\n",
    "X_train, X_test, y_train, y_test = train_test_split(vectors, label_df_ribon_news.LABEL_TRAIN, \n",
    "                                                    test_size=0.1, random_state=1)\n",
    "\n",
    "# Create the LinearSVC model\n",
    "model = LinearSVC(random_state=1, dual=False)\n",
    "#Fit the model\n",
    "model.fit(X_train, y_train)\n",
    "\n",
    "# Uncomment and run to see model accuracy\n",
    "print(f'Model test accuracy: {model.score(X_test, y_test)*100:.3f}%')"
   ]
  },
  {
   "cell_type": "code",
   "execution_count": 64,
   "metadata": {},
   "outputs": [
    {
     "name": "stdout",
     "output_type": "stream",
     "text": [
      "Model test accuracy: 10.566%\n"
     ]
    }
   ],
   "source": [
    "# Scratch space in case you want to experiment with other models\n",
    "\n",
    "second_model = RandomForestRegressor(random_state=2)\n",
    "second_model.fit(X_train, y_train)\n",
    "print(f'Model test accuracy: {second_model.score(X_test, y_test)*100:.3f}%')"
   ]
  },
  {
   "cell_type": "code",
   "execution_count": null,
   "metadata": {},
   "outputs": [],
   "source": []
  }
 ],
 "metadata": {
  "file_extension": ".py",
  "kernelspec": {
   "display_name": "Python 3",
   "language": "python",
   "name": "python3"
  },
  "language_info": {
   "codemirror_mode": {
    "name": "ipython",
    "version": 3
   },
   "file_extension": ".py",
   "mimetype": "text/x-python",
   "name": "python",
   "nbconvert_exporter": "python",
   "pygments_lexer": "ipython3",
   "version": "3.6.9"
  },
  "mimetype": "text/x-python",
  "name": "python",
  "npconvert_exporter": "python",
  "pygments_lexer": "ipython3",
  "version": 3
 },
 "nbformat": 4,
 "nbformat_minor": 2
}
