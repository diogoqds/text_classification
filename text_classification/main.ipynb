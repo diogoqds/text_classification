{
 "cells": [
  {
   "cell_type": "code",
   "execution_count": 96,
   "metadata": {},
   "outputs": [],
   "source": [
    "# -*- coding: utf-8 -*-\n",
    "\"\"\"\n",
    "Created on Fri 21 2020\n",
    "@author: Thiago Pinho\n",
    "\"\"\"\n",
    "\n",
    "from sklearn.svm import LinearSVC\n",
    "from sklearn.model_selection import train_test_split\n",
    "from sklearn.feature_extraction.text import CountVectorizer\n",
    "from sklearn.pipeline import Pipeline\n",
    "from sklearn.base import TransformerMixin\n",
    "from sklearn import metrics\n",
    "from sklearn.metrics import accuracy_score\n",
    "from spacy.lang.pt import Portuguese\n",
    "from collections import Counter\n",
    "from nltk.corpus import stopwords\n",
    "import pandas as pd\n",
    "import numpy as np\n",
    "import xlsxwriter\n",
    "import spacy\n",
    "import seaborn as sns\n",
    "import matplotlib.pyplot as plt\n",
    "import string\n",
    "import pyLDAvis.gensim\n",
    "from tqdm.notebook import tqdm\n",
    "from pprint import pprint"
   ]
  },
  {
   "cell_type": "code",
   "execution_count": 112,
   "metadata": {},
   "outputs": [],
   "source": [
    "\n",
    "class CleanTextTransformer(TransformerMixin):\n",
    "    def transform(self, X, **transform_params):\n",
    "        return [clean_text(text) for text in X]\n",
    "\n",
    "    def fit(self, X, y=None, **fit_params):\n",
    "        return self\n",
    "\n",
    "\n",
    "def get_params(self, deep=True):\n",
    "    return {}\n",
    "\n",
    "\n",
    "def clean_text(text):\n",
    "    text = str(text)\n",
    "    text = text.strip().replace(\"\\n\", \" \").replace(\"\\r\", \" \")\n",
    "    return text\n",
    "\n",
    "\n",
    "def tokenize_text(sample):\n",
    "    tokens = parser(sample)\n",
    "    lemmas = []\n",
    "    for tok in tokens:\n",
    "        lemmas.append(\n",
    "            tok.lemma_.strip()\n",
    "            if tok.lemma_ != \"-PRON-\" else tok.lower_)\n",
    "    tokens = lemmas\n",
    "    tokens = [tok for tok in tokens if tok not in STOPLIST]\n",
    "    tokens = [tok for tok in tokens if tok not in SYMBOLS]\n",
    "    return tokens\n",
    "\n",
    "\n",
    "def print_n_most_informative(vectorizer, clf, N):\n",
    "    feature_names = vectorizer.get_feature_names()\n",
    "    coefs_with_fns = sorted(zip(clf.coef_[0], feature_names))\n",
    "    topClass1 = coefs_with_fns[:N]\n",
    "    topClass2 = coefs_with_fns[:-(N + 1):-1]\n",
    "    print(\"Class 1 best: \")\n",
    "    for feat in topClass1:\n",
    "        print(feat)\n",
    "    print(\"Class 2 best: \")\n",
    "    for feat in topClass2:\n",
    "        print(feat)\n",
    "\n",
    "def lemmatizer(doc):\n",
    "    \"\"\"  This takes in a doc of tokens from the NER and lemmatizes them.  \n",
    "        Pronouns (like \"I\" and \"you\" get lemmatized to \"-PRON-\",\n",
    "        so I\"m removing those.\n",
    "    \"\"\"\n",
    "    doc = [token.lemma_ for token in doc if token.lemma_ != \"-PRON-\"]\n",
    "    doc = u\" \".join(doc)\n",
    "    return nlp.make_doc(doc)\n",
    "\n",
    "\n",
    "def remove_stopwords(doc):\n",
    "    \"\"\"  This will remove stopwords and punctuation. \n",
    "        Use token.text to return strings, which we\"ll need for Gensim.\n",
    "    \"\"\"\n",
    "    doc = [token.text for token in doc if token.is_stop != True and token.is_punct != True]\n",
    "    return doc"
   ]
  },
  {
   "cell_type": "code",
   "execution_count": 15,
   "metadata": {},
   "outputs": [
    {
     "name": "stdout",
     "output_type": "stream",
     "text": [
      "{'mais', 'pela', 'no', 'vocês', 'serei', 'delas', 'esta', 'estas', 'terei', 'numa', 'lhe', 'seria', 'houvessem', 'que', 'tenhamos', 'eram', 'deles', 'estiverem', 'estive', 'na', 'estou', 'num', 'estivermos', 'entre', 'aquelas', 'tu', 'seja', 'dela', 'temos', 'tenham', 'houveram', 'aquela', 'há', 'minhas', 'sejamos', 'tua', 'fora', 'qual', 'tinham', 'até', 'tivéssemos', 'houver', 'aquilo', 'teria', 'são', 'terão', 'estão', 'pelos', 'dos', 'estivera', 'tínhamos', 'O', 'estivesse', 'houvemos', 'das', 'tivéramos', 'uma', 'isto', 'de', 'somos', 'houvéramos', 'sua', 'aquele', 'nem', 'ele', 'fôssemos', 'para', 'estivéssemos', 'houveríamos', 'quem', 'eles', 'em', 'como', 'pelo', 'houvermos', 'tém', 'sem', 'aqueles', 'estejam', 'aos', 'está', 'nosso', 'seremos', 'teremos', 'com', 'o', 'eu', 'vos', 'tivera', 'lhes', 'tem', 'hei', 'a', 'A', 'houverá', 'estejamos', 'teriam', 'nossa', 'houveria', 'tivemos', 'também', 'nós', 'do', 'se', 'esteve', 'suas', 'te', 'for', 'estivéramos', 'havemos', 'houveremos', 'foi', 'terá', 'isso', 'estiveram', 'da', 'ou', 'fosse', 'tiveram', 'essas', 'estivemos', 'tinha', 'ao', 'dele', 'não', 'éramos', 'quando', 'estávamos', 'seríamos', 'tenha', 'teu', 'teríamos', 'é', 'houvera', 'esse', 'você', 'nas', 'sou', 'hajamos', 'fossem', 'houve', 'estivessem', 'estiver', 'esteja', 'estava', 'houvéssemos', 'os', 'depois', 'houverei', 'tivesse', 'este', 'tenho', 'tive', 'por', 'hão', 'esses', 'haja', 'foram', 'teve', 'mesmo', 'forem', 'fomos', 'às', 'tiverem', 'teus', 'estes', 'seus', 'já', 'era', 'minha', 'tivessem', 'será', 'só', 'nossos', 'nossas', 'muito', 'à', 'elas', 'um', 'tivermos', 'houvesse', 'formos', 'seriam', 'estavam', 'meus', 'houveriam', 'sejam', 'hajam', 'ela', 'serão', 'as', 'mas', 'pelas', 'nos', 'houverem', 'meu', 'fui', 'me', 'tiver', 'fôramos', 'tuas', 'estamos', 'e', 'seu', 'essa', 'houverão'}\n",
      "['!', '\"', '#', '$', '%', '&', \"'\", '(', ')', '*', '+', ',', '-', '.', '/', ':', ';', '<', '=', '>', '?', '@', '[', '\\\\', ']', '^', '_', '`', '{', '|', '}', '~', '-', '...', '”', '”']\n"
     ]
    }
   ],
   "source": [
    "VECTOR_MODEL_NAME = \"pt_core_news_sm\"\n",
    "RELATIVE_PATH_TO_FOLDER = \"./assets/datasets/ribon/\"\n",
    "DATA_FILENAME = \"Feeds_Label\"\n",
    "parser = Portuguese()\n",
    "STOPLIST = set(stopwords.words(\"portuguese\")).union(set([\"a\", \"o\", \"A\", \"O\"]))\n",
    "SYMBOLS = \" \".join(string.punctuation).split(\" \") + [\"-\", \"...\", \"”\", \"”\"]\n",
    "TARGET_VARIABLE = \"LABEL_TRAIN\"\n",
    "TEXT_VARIABLE = \"TITLE\"\n",
    "print(STOPLIST)\n",
    "print(SYMBOLS)"
   ]
  },
  {
   "cell_type": "code",
   "execution_count": 16,
   "metadata": {},
   "outputs": [
    {
     "name": "stdout",
     "output_type": "stream",
     "text": [
      "   id  pick_count                                            content  \\\n",
      "0  11           0  A forte ligação dos cães com o ser humano desp...   \n",
      "1  12           0  Os chamados muros da gentileza estão promovend...   \n",
      "2   9           0  Alguns de nós sabem a sorte que é ter um irmão...   \n",
      "3   6           0               Temos muito o que aprender com elas.   \n",
      "4   1           0  Esqueça o que te disseram sobre a zona de conf...   \n",
      "\n",
      "                                               title    Label_Train  \n",
      "0  Há mais de 10 anos, dupla de cães 🐶 acompanha ...        Animais  \n",
      "1  Muros da gentileza ajudam desabrigados e famíl...  Solidariedade  \n",
      "2  20 fotos maravilhosas mostrando a alegria de t...        Familia  \n",
      "3  13 razões pelas quais crianças são bem mais es...       Criancas  \n",
      "4  Ex-executiva fala sobre vida sem propósito - I...      Proposito  \n"
     ]
    }
   ],
   "source": [
    "\"\"\"  load the dataset \"\"\"\n",
    "relative_path_file = RELATIVE_PATH_TO_FOLDER + DATA_FILENAME + \".csv\"\n",
    "df_ribon_news = pd.read_csv(relative_path_file)\n",
    "print(df_ribon_news.head())"
   ]
  },
  {
   "cell_type": "code",
   "execution_count": 17,
   "metadata": {},
   "outputs": [
    {
     "name": "stdout",
     "output_type": "stream",
     "text": [
      "   ID  PICK_COUNT                                            CONTENT  \\\n",
      "0  11           0  A forte ligação dos cães com o ser humano desp...   \n",
      "1  12           0  Os chamados muros da gentileza estão promovend...   \n",
      "2   9           0  Alguns de nós sabem a sorte que é ter um irmão...   \n",
      "3   6           0               Temos muito o que aprender com elas.   \n",
      "4   1           0  Esqueça o que te disseram sobre a zona de conf...   \n",
      "\n",
      "                                               TITLE    LABEL_TRAIN  \n",
      "0  Há mais de 10 anos, dupla de cães 🐶 acompanha ...        ANIMAIS  \n",
      "1  Muros da gentileza ajudam desabrigados e famíl...  SOLIDARIEDADE  \n",
      "2  20 fotos maravilhosas mostrando a alegria de t...        FAMILIA  \n",
      "3  13 razões pelas quais crianças são bem mais es...       CRIANCAS  \n",
      "4  Ex-executiva fala sobre vida sem propósito - I...      PROPOSITO  \n"
     ]
    }
   ],
   "source": [
    "\"\"\"  Preprocess the dataset names and values \"\"\"\n",
    "df_ribon_news.columns = map(lambda x: str(x).upper(), df_ribon_news.columns)\n",
    "df_ribon_news[TARGET_VARIABLE] = df_ribon_news[TARGET_VARIABLE].str.upper()\n",
    "\"\"\" Converting all labels to lowercase \"\"\"\n",
    "print(df_ribon_news.head())"
   ]
  },
  {
   "cell_type": "code",
   "execution_count": 18,
   "metadata": {},
   "outputs": [
    {
     "data": {
      "image/png": "[encoded data removed]",
      "text/plain": [
       "<Figure size 1152x576 with 1 Axes>"
      ]
     },
     "metadata": {
      "needs_background": "light"
     },
     "output_type": "display_data"
    }
   ],
   "source": [
    "\"\"\"  Let\"s see how the labels are distributed \"\"\"\n",
    "fig = plt.figure(figsize=(16, 8))\n",
    "sns.barplot(\n",
    "    x=df_ribon_news[TARGET_VARIABLE].unique(),\n",
    "    y=df_ribon_news[TARGET_VARIABLE].value_counts())\n",
    "plt.show()"
   ]
  },
  {
   "cell_type": "code",
   "execution_count": 20,
   "metadata": {},
   "outputs": [
    {
     "name": "stdout",
     "output_type": "stream",
     "text": [
      "   ID  PICK_COUNT                                            CONTENT  \\\n",
      "0  11           0  A forte ligação dos cães com o ser humano desp...   \n",
      "1  12           0  Os chamados muros da gentileza estão promovend...   \n",
      "2   9           0  Alguns de nós sabem a sorte que é ter um irmão...   \n",
      "3   6           0               Temos muito o que aprender com elas.   \n",
      "4   1           0  Esqueça o que te disseram sobre a zona de conf...   \n",
      "\n",
      "                                               TITLE    LABEL_TRAIN  \n",
      "0  Há mais de 10 anos, dupla de cães 🐶 acompanha ...        ANIMAIS  \n",
      "1  Muros da gentileza ajudam desabrigados e famíl...  SOLIDARIEDADE  \n",
      "2  20 fotos maravilhosas mostrando a alegria de t...        FAMILIA  \n",
      "3  13 razões pelas quais crianças são bem mais es...       CRIANCAS  \n",
      "4  Ex-executiva fala sobre vida sem propósito - I...      PROPOSITO  \n"
     ]
    }
   ],
   "source": [
    "\n",
    "\"\"\"  Let\"s store the data \"\"\"\n",
    "excel_filename = RELATIVE_PATH_TO_FOLDER + DATA_FILENAME + \"_treated.xlsx\"\n",
    "\n",
    "\"\"\"  Convert the dataframe to an xlsx file \"\"\"\n",
    "df_ribon_news.to_excel(excel_filename)\n",
    "\n",
    "\"\"\"  We then load the data for stability \"\"\"\n",
    "df_ribon_news_treated = pd.read_excel(excel_filename, index_col=0)\n",
    "print(df_ribon_news_treated.head())"
   ]
  },
  {
   "cell_type": "code",
   "execution_count": 21,
   "metadata": {},
   "outputs": [
    {
     "name": "stdout",
     "output_type": "stream",
     "text": [
      "ANIMAIS:  67\n",
      "SOLIDARIEDADE:  94\n",
      "FAMILIA:  19\n",
      "CRIANCAS:  19\n",
      "PROPOSITO:  86\n",
      "DIVERSIDADE:  72\n",
      "EDUCACAO:  66\n",
      "ECOLOGIA:  129\n",
      "SAUDE:  24\n",
      "IDOSOS:  15\n",
      "CIENCIA:  31\n",
      "CELEBRACAO:  56\n",
      "ETNIAS:  65\n",
      "ESPORTE:  34\n",
      "CULTURA:  79\n",
      "EMPREENDEDORISMO:  32\n"
     ]
    }
   ],
   "source": [
    "for label in df_ribon_news_treated[TARGET_VARIABLE].unique():\n",
    "    print(\n",
    "        label + \": \",\n",
    "        len(df_ribon_news_treated[\n",
    "            df_ribon_news_treated[TARGET_VARIABLE] == label]))"
   ]
  },
  {
   "cell_type": "code",
   "execution_count": 24,
   "metadata": {},
   "outputs": [
    {
     "name": "stdout",
     "output_type": "stream",
     "text": [
      "                                             CONTENT    LABEL_TRAIN\n",
      "0  A forte ligação dos cães com o ser humano desp...        ANIMAIS\n",
      "1  Os chamados muros da gentileza estão promovend...  SOLIDARIEDADE\n",
      "2  Alguns de nós sabem a sorte que é ter um irmão...        FAMILIA\n",
      "3               Temos muito o que aprender com elas.       CRIANCAS\n",
      "4  Esqueça o que te disseram sobre a zona de conf...      PROPOSITO\n",
      "                                               TITLE    LABEL_TRAIN\n",
      "0  Há mais de 10 anos, dupla de cães 🐶 acompanha ...        ANIMAIS\n",
      "1  Muros da gentileza ajudam desabrigados e famíl...  SOLIDARIEDADE\n",
      "2  20 fotos maravilhosas mostrando a alegria de t...        FAMILIA\n",
      "3  13 razões pelas quais crianças são bem mais es...       CRIANCAS\n",
      "4  Ex-executiva fala sobre vida sem propósito - I...      PROPOSITO\n"
     ]
    }
   ],
   "source": [
    "\"\"\" As we have two text variables CONTENT and TITLE.\n",
    "    we can use both of then to improve predictions\n",
    "\"\"\"\n",
    "first_pipeline_text_variable = \"CONTENT\"\n",
    "second_pipeline_text_variable = \"TITLE\"\n",
    "\n",
    "df_first_ribon_news_data = df_ribon_news_treated[\n",
    "    [first_pipeline_text_variable, TARGET_VARIABLE]]\n",
    "df_second_ribon_news_data = df_ribon_news_treated[\n",
    "    [second_pipeline_text_variable, TARGET_VARIABLE]]\n",
    "\n",
    "\"\"\"  Let\"s store the data \"\"\"\n",
    "excel_first_filename = RELATIVE_PATH_TO_FOLDER + DATA_FILENAME +\\\n",
    "    \"_first_data.xlsx\"\n",
    "excel_second_filename = RELATIVE_PATH_TO_FOLDER + DATA_FILENAME +\\\n",
    "    \"_second_data.xlsx\"\n",
    "\n",
    "df_first_ribon_news_data.to_excel(excel_first_filename)\n",
    "df_second_ribon_news_data.to_excel(excel_second_filename)\n",
    "\n",
    "\"\"\"  We then load the data for stability \"\"\"\n",
    "df_first_data = pd.read_excel(excel_first_filename, index_col=0)\n",
    "df_second_data = pd.read_excel(excel_second_filename, index_col=0)\n",
    "print(df_first_data.head())\n",
    "print(df_second_data.head())"
   ]
  },
  {
   "cell_type": "code",
   "execution_count": 28,
   "metadata": {},
   "outputs": [
    {
     "name": "stdout",
     "output_type": "stream",
     "text": [
      "One sample of the CONTENT column:  Pelo fim da desnutrição no mundo - ONGs que apoiamos\n",
      "This sample respective LABEL_TRAINcolumn:  PROPOSITO\n",
      "Training Data Shape: (594,)\n",
      "Testing Data Shape: (294,)\n"
     ]
    }
   ],
   "source": [
    "\"\"\"  Let\"s create a train and test sample \"\"\"\n",
    "\"\"\"  for TITLE -> TRAIN_LABEL analysis \"\"\"\n",
    "y_variable = \"LABEL_TRAIN\"\n",
    "X_variable = first_pipeline_text_variable\n",
    "df_X_data = df_first_data[X_variable]\n",
    "df_y_data = df_first_data[y_variable]\n",
    "\n",
    "X_train, X_test, y_train, y_test = train_test_split(\n",
    "    df_X_data.values,\n",
    "    df_y_data.values,\n",
    "    test_size=0.33, random_state=42)\n",
    "print(\"One sample of the \" + X_variable + \" column: \", X_train[0])\n",
    "print(\"This sample respective \" + y_variable + \"column: \", y_train[0])\n",
    "print(\"Training Data Shape:\", X_train.shape)\n",
    "print(\"Testing Data Shape:\", X_test.shape)"
   ]
  },
  {
   "cell_type": "code",
   "execution_count": 26,
   "metadata": {},
   "outputs": [
    {
     "name": "stdout",
     "output_type": "stream",
     "text": [
      "accuracy: 0.40476190476190477\n",
      "Top 10 features used to predict: \n",
      "Class 1 best: \n",
      "(-0.1638873359647052, 'nan')\n",
      "(-0.13657275365055274, 'aprender')\n",
      "(-0.1154749734468693, 'mãe')\n",
      "(-0.11206550215408034, 'ribon')\n",
      "(-0.11176430463091126, 'mundo')\n",
      "(-0.09185266179534529, 'crianças')\n",
      "(-0.08344157313541122, 'brasil')\n",
      "(-0.08055991450147623, 'novembro')\n",
      "(-0.08011121231515056, 'deveria')\n",
      "(-0.07928079985219534, 'lugar')\n",
      "Class 2 best: \n",
      "(0.3770705330619924, 'cães')\n",
      "(0.2986084253135207, 'animais')\n",
      "(0.2615603983099541, 'elefantes')\n",
      "(0.2076469637719078, 'pj')\n",
      "(0.20142246646088863, 'cão')\n",
      "(0.18909798714482096, 'separados')\n",
      "(0.18909798714482096, 'lana')\n",
      "(0.18909798714482096, 'compartilha')\n",
      "(0.18909798714482096, 'cobertor')\n",
      "(0.18909798714482096, 'cadelinha')\n",
      "                  precision    recall  f1-score   support\n",
      "\n",
      "         ANIMAIS       0.64      0.54      0.58        26\n",
      "   SOLIDARIEDADE       0.25      0.15      0.19        20\n",
      "         FAMILIA       0.40      0.17      0.24        12\n",
      "        CRIANCAS       0.00      0.00      0.00         6\n",
      "       PROPOSITO       0.56      0.33      0.42        30\n",
      "     DIVERSIDADE       0.42      0.30      0.35        27\n",
      "        EDUCACAO       0.62      0.78      0.69        41\n",
      "        ECOLOGIA       0.43      0.39      0.41        23\n",
      "           SAUDE       0.00      0.00      0.00        15\n",
      "          IDOSOS       0.50      0.38      0.43         8\n",
      "         CIENCIA       0.43      0.26      0.32        23\n",
      "      CELEBRACAO       0.20      0.17      0.18         6\n",
      "          ETNIAS       1.00      0.25      0.40         4\n",
      "         ESPORTE       0.35      0.58      0.43        26\n",
      "         CULTURA       0.00      0.00      0.00         6\n",
      "EMPREENDEDORISMO       0.22      0.71      0.34        21\n",
      "\n",
      "        accuracy                           0.40       294\n",
      "       macro avg       0.38      0.31      0.31       294\n",
      "    weighted avg       0.42      0.40      0.39       294\n",
      "\n"
     ]
    },
    {
     "name": "stderr",
     "output_type": "stream",
     "text": [
      "/home/dev/PythonEnviroments/developing-fun/local/lib/python3.6/site-packages/sklearn/metrics/_classification.py:1272: UndefinedMetricWarning: Precision and F-score are ill-defined and being set to 0.0 in labels with no predicted samples. Use `zero_division` parameter to control this behavior.\n",
      "  _warn_prf(average, modifier, msg_start, len(result))\n"
     ]
    }
   ],
   "source": [
    "vectorizer = CountVectorizer(tokenizer=tokenize_text, ngram_range=(1, 1))\n",
    "clf = LinearSVC()\n",
    "\n",
    "pipe = Pipeline(\n",
    "    [(\"cleanText\", CleanTextTransformer()),\n",
    "        (\"vectorizer\", vectorizer), (\"clf\", clf)])\n",
    "\"\"\"  data \"\"\"\n",
    "train1 = X_train.tolist()\n",
    "labelsTrain1 = y_train.tolist()\n",
    "test1 = X_test.tolist()\n",
    "labelsTest1 = y_test.tolist()\n",
    "\"\"\"  train \"\"\"\n",
    "pipe.fit(train1, labelsTrain1)\n",
    "\"\"\"  test \"\"\"\n",
    "preds = pipe.predict(test1)\n",
    "print(\"accuracy:\", accuracy_score(labelsTest1, preds))\n",
    "print(\"Top 10 features used to predict: \")\n",
    "print_n_most_informative(vectorizer, clf, 10)\n",
    "\n",
    "print(\n",
    "    metrics.classification_report(\n",
    "        labelsTest1,\n",
    "        preds,\n",
    "        target_names=df_first_data[y_variable].unique()))"
   ]
  },
  {
   "cell_type": "code",
   "execution_count": 56,
   "metadata": {},
   "outputs": [
    {
     "name": "stdout",
     "output_type": "stream",
     "text": [
      "One sample of the TITLE column:  Conheça a PHC\n",
      "This sample respective LABEL_TRAINcolumn:  PROPOSITO\n",
      "Training Data Shape: (594,)\n",
      "Testing Data Shape: (294,)\n",
      "accuracy: 0.38095238095238093\n",
      "Top 10 features used to predict: \n",
      "Class 1 best: \n",
      "(-0.1897695654484011, 'bióloga')\n",
      "(-0.1635271927769133, 'crianças')\n",
      "(-0.16040116492707607, 'podem')\n",
      "(-0.15355994989584512, 'prêmio')\n",
      "(-0.1485855644994231, 'ganha')\n",
      "(-0.1413300517294916, 'alimentos')\n",
      "(-0.13149137651578377, 'designer')\n",
      "(-0.13069733011134685, 'internacional')\n",
      "(-0.13069733011134682, 'rodovias')\n",
      "(-0.1306973301113468, 'brasileira')\n",
      "Class 2 best: \n",
      "(0.8801645795362907, 'animais')\n",
      "(0.8208041132992558, 'cães')\n",
      "(0.609589361634002, 'elefantes')\n",
      "(0.6064772934266579, 'generosidade')\n",
      "(0.5963571227642993, 'abandonados')\n",
      "(0.5328490566675717, 'elefanta')\n",
      "(0.5278138155385432, 'cãozinho')\n",
      "(0.5004308967226171, 'zoológico')\n",
      "(0.4936585752672306, 'menos')\n",
      "(0.4890770406465321, 'cadela')\n",
      "                  precision    recall  f1-score   support\n",
      "\n",
      "         ANIMAIS       0.44      0.31      0.36        26\n",
      "   SOLIDARIEDADE       0.33      0.35      0.34        20\n",
      "         FAMILIA       0.33      0.17      0.22        12\n",
      "        CRIANCAS       0.00      0.00      0.00         6\n",
      "       PROPOSITO       0.50      0.27      0.35        30\n",
      "     DIVERSIDADE       0.36      0.33      0.35        27\n",
      "        EDUCACAO       0.43      0.68      0.53        41\n",
      "        ECOLOGIA       0.47      0.39      0.43        23\n",
      "           SAUDE       0.33      0.07      0.11        15\n",
      "          IDOSOS       0.29      0.50      0.36         8\n",
      "         CIENCIA       0.40      0.35      0.37        23\n",
      "      CELEBRACAO       0.33      0.17      0.22         6\n",
      "          ETNIAS       1.00      0.25      0.40         4\n",
      "         ESPORTE       0.43      0.58      0.49        26\n",
      "         CULTURA       0.20      0.17      0.18         6\n",
      "EMPREENDEDORISMO       0.24      0.48      0.32        21\n",
      "\n",
      "        accuracy                           0.38       294\n",
      "       macro avg       0.38      0.32      0.32       294\n",
      "    weighted avg       0.39      0.38      0.36       294\n",
      "\n"
     ]
    }
   ],
   "source": [
    "\"\"\"  Let\"s create a train and test sample\n",
    "    for TITLE -> TRAIN_LABEL analysis\n",
    "\"\"\"\n",
    "y_variable = \"LABEL_TRAIN\"\n",
    "X_variable = second_pipeline_text_variable\n",
    "df_X_data = df_second_data[X_variable]\n",
    "df_y_data = df_second_data[y_variable]\n",
    "\n",
    "X_train, X_test, y_train, y_test = train_test_split(\n",
    "    df_X_data.values,\n",
    "    df_y_data.values,\n",
    "    test_size=0.33, random_state=42)\n",
    "print(\"One sample of the \" + X_variable + \" column: \", X_train[0])\n",
    "print(\"This sample respective \" + y_variable + \"column: \", y_train[0])\n",
    "print(\"Training Data Shape:\", X_train.shape)\n",
    "print(\"Testing Data Shape:\", X_test.shape)\n",
    "\n",
    "vectorizer = CountVectorizer(tokenizer=tokenize_text, ngram_range=(1, 1))\n",
    "clf = LinearSVC()\n",
    "\n",
    "pipe = Pipeline(\n",
    "    [(\"clean_text\", CleanTextTransformer()),\n",
    "        (\"vectorizer\", vectorizer), (\"clf\", clf)])\n",
    "\"\"\"  data \"\"\"\n",
    "train1 = X_train.tolist()\n",
    "labelsTrain1 = y_train.tolist()\n",
    "test1 = X_test.tolist()\n",
    "labelsTest1 = y_test.tolist()\n",
    "\"\"\"  train \"\"\"\n",
    "pipe.fit(train1, labelsTrain1)\n",
    "\"\"\"  test \"\"\"\n",
    "preds = pipe.predict(test1)\n",
    "print(\"accuracy:\", accuracy_score(labelsTest1, preds))\n",
    "print(\"Top 10 features used to predict: \")\n",
    "print_n_most_informative(vectorizer, clf, 10)\n",
    "\n",
    "print(\n",
    "    metrics.classification_report(\n",
    "        labelsTest1,\n",
    "        preds,\n",
    "        target_names=df_second_data[y_variable].unique()))"
   ]
  },
  {
   "cell_type": "code",
   "execution_count": 113,
   "metadata": {},
   "outputs": [
    {
     "name": "stdout",
     "output_type": "stream",
     "text": [
      "Mean model scores for first: 0.4729702278930997\n"
     ]
    }
   ],
   "source": [
    "from sklearn.feature_extraction.text import TfidfTransformer\n",
    "from sklearn.model_selection import cross_val_score\n",
    "from sklearn.linear_model import SGDClassifier\n",
    "from sklearn.ensemble import GradientBoostingClassifier\n",
    "from xgboost import XGBRegressor\n",
    "\n",
    "\"\"\"  Now we found that which text variable is more descriptive let's decide which model\n",
    "     have a better perfomance with this kind of data \n",
    "\"\"\"\n",
    "y_variable = \"LABEL_TRAIN\"\n",
    "X_variable = first_pipeline_text_variable\n",
    "df_X_data = df_first_data[X_variable]\n",
    "df_y_data = df_first_data[y_variable]\n",
    "\n",
    "vectorizer = CountVectorizer(tokenizer=tokenize_text, ngram_range=(1, 1))\n",
    "tf_transformer = TfidfTransformer(use_idf=True)\n",
    "clf = CalibratedClassifierCV()\n",
    "\n",
    "first_pipe = Pipeline(\n",
    "    [(\"clean_text\", CleanTextTransformer()),\n",
    "        (\"vectorizer\", vectorizer),\n",
    "        (\"tfidf\", tf_transformer),\n",
    "        (\"clf\", clf)])\n",
    "\n",
    "scores = cross_val_score(first_pipe, df_X_data, df_y_data, cv=5)\n",
    "print(\"Mean model scores for first:\", scores.mean())"
   ]
  },
  {
   "cell_type": "code",
   "execution_count": 114,
   "metadata": {},
   "outputs": [
    {
     "name": "stdout",
     "output_type": "stream",
     "text": [
      "Mean model scores for first: 0.47634101440995363\n"
     ]
    }
   ],
   "source": [
    "svm = SGDClassifier(loss='hinge', penalty='l2',\n",
    "                           alpha=1e-3, random_state=42,\n",
    "                           max_iter=10, tol=None)\n",
    "\n",
    "second_pipe = Pipeline(\n",
    "    [(\"clean_text\", CleanTextTransformer()),\n",
    "        (\"vectorizer\", vectorizer),\n",
    "        (\"tfidf\", tf_transformer),\n",
    "        (\"svm\", svm)])\n",
    "\n",
    "scores = cross_val_score(second_pipe, df_X_data, df_y_data, cv=5)\n",
    "print(\"Mean model scores for first:\", scores.mean())"
   ]
  },
  {
   "cell_type": "code",
   "execution_count": null,
   "metadata": {},
   "outputs": [],
   "source": []
  }
 ],
 "metadata": {
  "kernelspec": {
   "display_name": "Python 3",
   "language": "python",
   "name": "python3"
  },
  "language_info": {
   "codemirror_mode": {
    "name": "ipython",
    "version": 3
   },
   "file_extension": ".py",
   "mimetype": "text/x-python",
   "name": "python",
   "nbconvert_exporter": "python",
   "pygments_lexer": "ipython3",
   "version": "3.6.9"
  }
 },
 "nbformat": 4,
 "nbformat_minor": 4
}
