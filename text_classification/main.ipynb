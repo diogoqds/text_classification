{
 "cells": [
  {
   "cell_type": "code",
   "execution_count": 28,
   "metadata": {},
   "outputs": [
    {
     "name": "stdout",
     "output_type": "stream",
     "text": [
      "   id  pick_count                                            content  \\\n",
      "0  11           0  A forte ligação dos cães com o ser humano desp...   \n",
      "1  12           0  Os chamados muros da gentileza estão promovend...   \n",
      "2   9           0  Alguns de nós sabem a sorte que é ter um irmão...   \n",
      "3   6           0               Temos muito o que aprender com elas.   \n",
      "4   1           0  Esqueça o que te disseram sobre a zona de conf...   \n",
      "\n",
      "                                               title    Label_Train  \n",
      "0  Há mais de 10 anos, dupla de cães 🐶 acompanha ...        Animais  \n",
      "1  Muros da gentileza ajudam desabrigados e famíl...  Solidariedade  \n",
      "2  20 fotos maravilhosas mostrando a alegria de t...        Familia  \n",
      "3  13 razões pelas quais crianças são bem mais es...       Criancas  \n",
      "4  Ex-executiva fala sobre vida sem propósito - I...      Proposito  \n"
     ]
    }
   ],
   "source": [
    "# -*- coding: utf-8 -*-\n",
    "\"\"\"\n",
    "Created on Fri 21 2020\n",
    "@author: Thiago Pinho\n",
    "\"\"\"\n",
    "\n",
    "# -*- coding: utf-8 -*-\n",
    "\"\"\"\n",
    "Created on Fri 21 2020\n",
    "@author: Thiago Pinho\n",
    "\"\"\"\n",
    "\n",
    "from sklearn.preprocessing import LabelEncoder\n",
    "from sklearn.svm import LinearSVC\n",
    "from sklearn.model_selection import train_test_split\n",
    "from sklearn.ensemble import RandomForestRegressor\n",
    "import pandas as pd\n",
    "import numpy as np\n",
    "import spacy\n",
    "\n",
    "VECTOR_MODEL_NAME = 'pt_core_news_sm'\n",
    "RELATIVE_PATH_TO_CSV = \"./assets/datasets/ribon/Feeds_Label.csv\"\n",
    "\n",
    "# load the dataset\n",
    "df_ribon_news = pd.read_csv(RELATIVE_PATH_TO_CSV)\n",
    "print(df_ribon_news.head())"
   ]
  },
  {
   "cell_type": "code",
   "execution_count": 29,
   "metadata": {},
   "outputs": [
    {
     "name": "stdout",
     "output_type": "stream",
     "text": [
      "   ID  PICK_COUNT                                            CONTENT  \\\n",
      "0  11           0  A forte ligação dos cães com o ser humano desp...   \n",
      "1  12           0  Os chamados muros da gentileza estão promovend...   \n",
      "2   9           0  Alguns de nós sabem a sorte que é ter um irmão...   \n",
      "3   6           0               Temos muito o que aprender com elas.   \n",
      "4   1           0  Esqueça o que te disseram sobre a zona de conf...   \n",
      "\n",
      "                                               TITLE    LABEL_TRAIN  \n",
      "0  Há mais de 10 anos, dupla de cães 🐶 acompanha ...        ANIMAIS  \n",
      "1  Muros da gentileza ajudam desabrigados e famíl...  SOLIDARIEDADE  \n",
      "2  20 fotos maravilhosas mostrando a alegria de t...        FAMILIA  \n",
      "3  13 razões pelas quais crianças são bem mais es...       CRIANCAS  \n",
      "4  Ex-executiva fala sobre vida sem propósito - I...      PROPOSITO  \n"
     ]
    }
   ],
   "source": [
    "df_ribon_news.columns = map(lambda x: str(x).upper(), df_ribon_news.columns)\n",
    "df_ribon_news['LABEL_TRAIN'] = df_ribon_news['LABEL_TRAIN'].str.upper()\n",
    "''' Converting all labels to uppercase '''\n",
    "print(df_ribon_news.head())"
   ]
  },
  {
   "cell_type": "code",
   "execution_count": 5,
   "metadata": {},
   "outputs": [
    {
     "name": "stdout",
     "output_type": "stream",
     "text": [
      "ANIMAIS:  67\n",
      "SOLIDARIEDADE:  94\n",
      "FAMILIA:  19\n",
      "CRIANCAS:  19\n",
      "PROPOSITO:  86\n",
      "DIVERSIDADE:  72\n",
      "EDUCACAO:  66\n",
      "ECOLOGIA:  129\n",
      "SAUDE:  24\n",
      "IDOSOS:  15\n",
      "CIENCIA:  31\n",
      "CELEBRACAO:  56\n",
      "ETNIAS:  65\n",
      "ESPORTE:  34\n",
      "CULTURA:  79\n",
      "EMPREENDEDORISMO:  32\n"
     ]
    }
   ],
   "source": [
    "# Viewing frequencies\n",
    "for label in df_ribon_news['LABEL_TRAIN'].unique():\n",
    "    print(label + \": \", len(df_ribon_news[df_ribon_news.LABEL_TRAIN == label]))\n"
   ]
  },
  {
   "cell_type": "code",
   "execution_count": 25,
   "metadata": {},
   "outputs": [
    {
     "name": "stdout",
     "output_type": "stream",
     "text": [
      "   ID  PICK_COUNT                                            CONTENT  \\\n",
      "0  11           0  A forte ligação dos cães com o ser humano desp...   \n",
      "1  12           0  Os chamados muros da gentileza estão promovend...   \n",
      "2   9           0  Alguns de nós sabem a sorte que é ter um irmão...   \n",
      "3   6           0               Temos muito o que aprender com elas.   \n",
      "4   1           0  Esqueça o que te disseram sobre a zona de conf...   \n",
      "\n",
      "                                               TITLE  LABEL_TRAIN  \n",
      "0  Há mais de 10 anos, dupla de cães 🐶 acompanha ...            0  \n",
      "1  Muros da gentileza ajudam desabrigados e famíl...           15  \n",
      "2  20 fotos maravilhosas mostrando a alegria de t...           11  \n",
      "3  13 razões pelas quais crianças são bem mais es...            3  \n",
      "4  Ex-executiva fala sobre vida sem propósito - I...           13  \n"
     ]
    }
   ],
   "source": [
    "# For simple label encoding\n",
    "# All categorical columns\n",
    "categorical_cols = ['LABEL_TRAIN']\n",
    "\n",
    "label_df_ribon_news = df_ribon_news\n",
    "\n",
    "# Apply label encoder\n",
    "label_encoder = LabelEncoder()\n",
    "for col in categorical_cols:\n",
    "    label_df_ribon_news[col] = label_encoder.fit_transform(df_ribon_news[col])\n",
    "\n",
    "print(label_df_ribon_news.head())"
   ]
  },
  {
   "cell_type": "code",
   "execution_count": 7,
   "metadata": {},
   "outputs": [
    {
     "data": {
      "text/plain": [
       "(888, 96)"
      ]
     },
     "execution_count": 7,
     "metadata": {},
     "output_type": "execute_result"
    }
   ],
   "source": [
    "# Load the large model to get the vectors\n",
    "nlp = spacy.load(VECTOR_MODEL_NAME)\n",
    "\n",
    "# We just want the vectors so we can turn off other models in the pipeline\n",
    "with nlp.disable_pipes():\n",
    "    vectors = np.array([nlp(str(news.CONTENT)).vector for idx, news in df_ribon_news.iterrows()])\n",
    "    \n",
    "print(vectors.shape)\n"
   ]
  },
  {
   "cell_type": "code",
   "execution_count": 74,
   "metadata": {},
   "outputs": [
    {
     "name": "stdout",
     "output_type": "stream",
     "text": [
      "Model test accuracy: 17.687%\n"
     ]
    }
   ],
   "source": [
    "# Training models\n",
    "\n",
    "X_train, X_test, y_train, y_test = train_test_split(vectors, label_df_ribon_news.LABEL_TRAIN, \n",
    "                                                      test_size=0.33,\n",
    "                                                          random_state=42)\n",
    "\n",
    "# Create the LinearSVC model\n",
    "model = LinearSVC(random_state=1, dual=False)\n",
    "#Fit the model\n",
    "model.fit(X_train, y_train)\n",
    "\n",
    "# Uncomment and run to see model accuracy\n",
    "print(f'Model test accuracy: {model.score(X_test, y_test)*100:.3f}%')"
   ]
  },
  {
   "cell_type": "code",
   "execution_count": 67,
   "metadata": {},
   "outputs": [
    {
     "name": "stdout",
     "output_type": "stream",
     "text": [
      "Model test accuracy: 0.458%\n"
     ]
    }
   ],
   "source": [
    "# Scratch space in case you want to experiment with other models\n",
    "\n",
    "second_model = RandomForestRegressor(random_state=2)\n",
    "second_model.fit(X_train, y_train)\n",
    "print(f'Model test accuracy: {second_model.score(X_test, y_test)*100:.3f}%')"
   ]
  },
  {
   "cell_type": "code",
   "execution_count": 80,
   "metadata": {},
   "outputs": [
    {
     "data": {
      "text/plain": [
       "XGBRegressor(base_score=0.5, booster=None, colsample_bylevel=1,\n",
       "             colsample_bynode=1, colsample_bytree=1, gamma=0, gpu_id=-1,\n",
       "             importance_type='gain', interaction_constraints=None,\n",
       "             learning_rate=0.025, max_delta_step=0, max_depth=12,\n",
       "             min_child_weight=1, missing=nan, monotone_constraints=None,\n",
       "             n_estimators=1000, n_jobs=4, num_parallel_tree=1,\n",
       "             objective='reg:squarederror', random_state=0, reg_alpha=0,\n",
       "             reg_lambda=1, scale_pos_weight=1, subsample=1, tree_method=None,\n",
       "             validate_parameters=False, verbosity=None)"
      ]
     },
     "execution_count": 80,
     "metadata": {},
     "output_type": "execute_result"
    }
   ],
   "source": [
    "from xgboost import XGBRegressor\n",
    "\n",
    "# Define the model\n",
    "my_model_3 = XGBRegressor(n_estimators=1000, learning_rate=0.025, n_jobs=4, max_depth=12)\n",
    "\n",
    "# Fit the model\n",
    "my_model_3.fit(X_train, y_train, \n",
    "             early_stopping_rounds=100, \n",
    "             eval_set=[(X_test, y_test)], \n",
    "             verbose=False)"
   ]
  },
  {
   "cell_type": "code",
   "execution_count": 82,
   "metadata": {},
   "outputs": [
    {
     "name": "stdout",
     "output_type": "stream",
     "text": [
      "Model test accuracy: -9.236%\n"
     ]
    }
   ],
   "source": [
    "# Uncomment and run to see model accuracy\n",
    "print(f'Model test accuracy: {my_model_3.score(X_test, y_test)*100:.3f}%')"
   ]
  },
  {
   "cell_type": "code",
   "execution_count": 85,
   "metadata": {},
   "outputs": [
    {
     "name": "stdout",
     "output_type": "stream",
     "text": [
      "Help on method score in module sklearn.base:\n",
      "\n",
      "score(X, y, sample_weight=None) method of xgboost.sklearn.XGBRegressor instance\n",
      "    Return the coefficient of determination R^2 of the prediction.\n",
      "    \n",
      "    The coefficient R^2 is defined as (1 - u/v), where u is the residual\n",
      "    sum of squares ((y_true - y_pred) ** 2).sum() and v is the total\n",
      "    sum of squares ((y_true - y_true.mean()) ** 2).sum().\n",
      "    The best possible score is 1.0 and it can be negative (because the\n",
      "    model can be arbitrarily worse). A constant model that always\n",
      "    predicts the expected value of y, disregarding the input features,\n",
      "    would get a R^2 score of 0.0.\n",
      "    \n",
      "    Parameters\n",
      "    ----------\n",
      "    X : array-like of shape (n_samples, n_features)\n",
      "        Test samples. For some estimators this may be a\n",
      "        precomputed kernel matrix or a list of generic objects instead,\n",
      "        shape = (n_samples, n_samples_fitted),\n",
      "        where n_samples_fitted is the number of\n",
      "        samples used in the fitting for the estimator.\n",
      "    \n",
      "    y : array-like of shape (n_samples,) or (n_samples, n_outputs)\n",
      "        True values for X.\n",
      "    \n",
      "    sample_weight : array-like of shape (n_samples,), default=None\n",
      "        Sample weights.\n",
      "    \n",
      "    Returns\n",
      "    -------\n",
      "    score : float\n",
      "        R^2 of self.predict(X) wrt. y.\n",
      "    \n",
      "    Notes\n",
      "    -----\n",
      "    The R2 score used when calling ``score`` on a regressor will use\n",
      "    ``multioutput='uniform_average'`` from version 0.23 to keep consistent\n",
      "    with :func:`~sklearn.metrics.r2_score`. This will influence the\n",
      "    ``score`` method of all the multioutput regressors (except for\n",
      "    :class:`~sklearn.multioutput.MultiOutputRegressor`). To specify the\n",
      "    default value manually and avoid the warning, please either call\n",
      "    :func:`~sklearn.metrics.r2_score` directly or make a custom scorer with\n",
      "    :func:`~sklearn.metrics.make_scorer` (the built-in scorer ``'r2'`` uses\n",
      "    ``multioutput='uniform_average'``).\n",
      "\n"
     ]
    }
   ],
   "source": [
    "help(my_model_3.score)"
   ]
  },
  {
   "cell_type": "code",
   "execution_count": 144,
   "metadata": {
    "scrolled": true
   },
   "outputs": [
    {
     "name": "stdout",
     "output_type": "stream",
     "text": [
      "['de', 'a', 'o', 'que', 'e', 'é', 'do', 'da', 'em', 'um', 'para', 'com', 'não', 'uma', 'os', 'no', 'se', 'na', 'por', 'mais', 'as', 'dos', 'como', 'mas', 'ao', 'ele', 'das', 'à', 'seu', 'sua', 'ou', 'quando', 'muito', 'nos', 'já', 'eu', 'também', 'só', 'pelo', 'pela', 'até', 'isso', 'ela', 'entre', 'depois', 'sem', 'mesmo', 'aos', 'seus', 'quem', 'nas', 'me', 'esse', 'eles', 'você', 'essa', 'num', 'nem', 'suas', 'meu', 'às', 'minha', 'numa', 'pelos', 'elas', 'qual', 'nós', 'lhe', 'deles', 'essas', 'esses', 'pelas', 'este', 'dele', 'tu', 'te', 'vocês', 'vos', 'lhes', 'meus', 'minhas', 'teu', 'tua', 'teus', 'tuas', 'nosso', 'nossa', 'nossos', 'nossas', 'dela', 'delas', 'esta', 'estes', 'estas', 'aquele', 'aquela', 'aqueles', 'aquelas', 'isto', 'aquilo', 'estou', 'está', 'estamos', 'estão', 'estive', 'esteve', 'estivemos', 'estiveram', 'estava', 'estávamos', 'estavam', 'estivera', 'estivéramos', 'esteja', 'estejamos', 'estejam', 'estivesse', 'estivéssemos', 'estivessem', 'estiver', 'estivermos', 'estiverem', 'hei', 'há', 'havemos', 'hão', 'houve', 'houvemos', 'houveram', 'houvera', 'houvéramos', 'haja', 'hajamos', 'hajam', 'houvesse', 'houvéssemos', 'houvessem', 'houver', 'houvermos', 'houverem', 'houverei', 'houverá', 'houveremos', 'houverão', 'houveria', 'houveríamos', 'houveriam', 'sou', 'somos', 'são', 'era', 'éramos', 'eram', 'fui', 'foi', 'fomos', 'foram', 'fora', 'fôramos', 'seja', 'sejamos', 'sejam', 'fosse', 'fôssemos', 'fossem', 'for', 'formos', 'forem', 'serei', 'será', 'seremos', 'serão', 'seria', 'seríamos', 'seriam', 'tenho', 'tem', 'temos', 'tém', 'tinha', 'tínhamos', 'tinham', 'tive', 'teve', 'tivemos', 'tiveram', 'tivera', 'tivéramos', 'tenha', 'tenhamos', 'tenham', 'tivesse', 'tivéssemos', 'tivessem', 'tiver', 'tivermos', 'tiverem', 'terei', 'terá', 'teremos', 'terão', 'teria', 'teríamos', 'teriam']\n"
     ]
    }
   ],
   "source": [
    "import pandas as pd\n",
    "import numpy as np\n",
    "import seaborn as sns\n",
    "import matplotlib.pyplot as plt\n",
    "import base64\n",
    "import string\n",
    "import re\n",
    "from collections import Counter\n",
    "from nltk.corpus import stopwords\n",
    "stopwords = stopwords.words('portuguese')\n",
    "print(stopwords)"
   ]
  },
  {
   "cell_type": "code",
   "execution_count": 111,
   "metadata": {},
   "outputs": [],
   "source": [
    "TARGET_VARIABLE = 'LABEL_TRAIN'\n",
    "TEXT_VARIABLE = 'TITLE'"
   ]
  },
  {
   "cell_type": "code",
   "execution_count": 112,
   "metadata": {},
   "outputs": [
    {
     "name": "stdout",
     "output_type": "stream",
     "text": [
      "Index(['ID', 'PICK_COUNT', 'CONTENT', 'TITLE', 'LABEL_TRAIN'], dtype='object')\n",
      "Research title sample: Conheça a PHC\n",
      "Conference of this paper: PROPOSITO\n",
      "Training Data Shape: (594, 2)\n",
      "Testing Data Shape: (294, 2)\n"
     ]
    }
   ],
   "source": [
    "TARGET_VARIABLE = 'LABEL_TRAIN'\n",
    "TEXT_VARIABLE = 'TITLE'\n",
    "\n",
    "from sklearn.model_selection import train_test_split\n",
    "print(df_ribon_news.columns)\n",
    "train, test = train_test_split(df_ribon_news[[TARGET_VARIABLE, TEXT_VARIABLE]], \n",
    "                                                      test_size=0.33,\n",
    "                                                          random_state=42)\n",
    "print('Research title sample:', train[TEXT_VARIABLE].iloc[0])\n",
    "print('Conference of this paper:', train[TARGET_VARIABLE].iloc[0])\n",
    "print('Training Data Shape:', train.shape)\n",
    "print('Testing Data Shape:', test.shape)\n"
   ]
  },
  {
   "cell_type": "code",
   "execution_count": 114,
   "metadata": {},
   "outputs": [
    {
     "data": {
      "image/png": "[encoded data removed]",
      "text/plain": [
       "<Figure size 576x288 with 1 Axes>"
      ]
     },
     "metadata": {
      "needs_background": "light"
     },
     "output_type": "display_data"
    },
    {
     "name": "stdout",
     "output_type": "stream",
     "text": [
      "!\"#$%&'()*+,-./:;<=>?@[\\]^_`{|}~\n"
     ]
    }
   ],
   "source": [
    "fig = plt.figure(figsize=(8,4))\n",
    "sns.barplot(x = train[TARGET_VARIABLE].unique(), y=train[TARGET_VARIABLE].value_counts())\n",
    "plt.show()\n",
    "\n",
    "punctuations = string.punctuation\n",
    "print(punctuations)"
   ]
  },
  {
   "cell_type": "code",
   "execution_count": 145,
   "metadata": {},
   "outputs": [],
   "source": [
    "def cleanup_text(docs, logging=False):\n",
    "    texts = []\n",
    "    counter = 1\n",
    "    for doc in docs:\n",
    "        if counter % 1000 == 0 and logging:\n",
    "            print(\"Processed %d out of %d documents.\" % (counter, len(docs)))\n",
    "        counter += 1\n",
    "        doc = nlp(doc, disable=['parser', 'ner'])\n",
    "        tokens = [tok.lemma_.lower().strip() for tok in doc if tok.lemma_ != '-PRON-']\n",
    "        tokens = [tok for tok in tokens if tok not in stopwords and tok not in punctuations]\n",
    "        tokens = ' '.join(tokens)\n",
    "        texts.append(tokens)\n",
    "    return pd.Series(texts)"
   ]
  },
  {
   "cell_type": "code",
   "execution_count": 146,
   "metadata": {},
   "outputs": [
    {
     "data": {
      "image/png": "[encoded data removed]",
      "text/plain": [
       "<Figure size 1296x432 with 1 Axes>"
      ]
     },
     "metadata": {
      "needs_background": "light"
     },
     "output_type": "display_data"
    }
   ],
   "source": [
    "most_common_target_label = train[TARGET_VARIABLE].value_counts().idxmax()\n",
    "\n",
    "most_common_target_text = [text for text in train[train[TARGET_VARIABLE] == most_common_target_label][TEXT_VARIABLE]]\n",
    "most_common_target_clean = cleanup_text(most_common_target_text)\n",
    "most_common_target_clean = ' '.join(most_common_target_clean).split()\n",
    "most_common_target_counts = Counter(most_common_target_clean)\n",
    "most_common_target_common_words = [word[0] for word in most_common_target_counts.most_common(20)]\n",
    "most_common_target_common_counts = [word[1] for word in most_common_target_counts.most_common(20)]\n",
    "fig = plt.figure(figsize=(18,6))\n",
    "sns.barplot(x=most_common_target_common_words, y=most_common_target_common_counts)\n",
    "plt.title('Most Common Words used in ' + TEXT_VARIABLE + ' of ' + most_common_target_label)\n",
    "plt.show()"
   ]
  },
  {
   "cell_type": "code",
   "execution_count": 132,
   "metadata": {},
   "outputs": [
    {
     "name": "stdout",
     "output_type": "stream",
     "text": [
      "{'estive', 'este', 'tuas', 'só', 'fora', 'esse', 'com', 'houverei', 'ou', 'tua', 'da', 'aquele', 'que', 'essa', 'vocês', 'tive', 'lhes', 'sejam', 'tivera', 'se', 'aos', 'nós', 'tiverem', 'mais', 'tu', 'serei', 'éramos', 'estivermos', 'hei', 'tenho', 'fossem', 'tivessem', 'teriam', 'tenhamos', 'ao', 'tínhamos', 'delas', 'estou', 'nossa', 'tém', 'deles', 'é', 'seríamos', 'fosse', 'você', 'sejamos', 'meu', 'num', 'houveria', 'das', 'quem', 'está', 'houvessem', 'mas', 'pelos', 'seremos', 'estava', 'qual', 'como', 'mesmo', 'minhas', 'estes', 'dela', 'numa', 'houvéramos', 'tiveram', 'nos', 'tenham', 'estas', 'houvéssemos', 'esta', 'não', 'estejamos', 'houvesse', 'do', 'quando', 'foi', 'teu', 'eram', 'hajam', 'seja', 'estão', 'tinham', 'ele', 'tinha', 'são', 'houverem', 'estivessem', 'estamos', 'há', 'a', 'essas', 'nosso', 'havemos', 'isto', 'houveram', 'teve', 'nossas', 'estavam', 'haja', 'as', 'estivemos', 'estivéssemos', 'teria', 'esteve', 'lhe', 'houveríamos', 'houvermos', 'terão', 'houveriam', 'aquilo', 'vos', 'minha', 'estiverem', 'houverão', 'um', 'sou', 'temos', 'terá', 'sem', 'à', 'eu', 'tivemos', 'forem', 'eles', 'nas', 'isso', 'houver', 'estiveram', 'fôramos', 'esteja', 'será', 'também', 'serão', 'seriam', 'na', 'ela', 'fôssemos', 'pelas', 'somos', 'de', 'tiver', 'teremos', 'houvera', 'estivéramos', 'uma', 'sua', 'suas', 'tivesse', 'nem', 'fomos', 'tivermos', 'tem', 'pelo', 'estivesse', 'estivera', 'estiver', 'às', 'estávamos', 'pela', 'muito', 'já', 'aquelas', 'hão', 'houve', 'os', 'no', 'teus', 'aqueles', 'nossos', 'houveremos', 'era', 'fui', 'for', 'estejam', 'formos', 'o', 'meus', 'dele', 'seria', 'aquela', 'seu', 'hajamos', 'terei', 'tenha', 'e', 'teríamos', 'foram', 'esses', 'dos', 'houverá', 'te', 'até', 'por', 'depois', 'me', 'houvemos', 'entre', 'elas', 'tivéssemos', 'em', 'para', 'tivéramos', 'seus'}\n",
      "['!', '\"', '#', '$', '%', '&', \"'\", '(', ')', '*', '+', ',', '-', '.', '/', ':', ';', '<', '=', '>', '?', '@', '[', '\\\\', ']', '^', '_', '`', '{', '|', '}', '~', '-', '...', '”', '”']\n"
     ]
    }
   ],
   "source": [
    "from sklearn.feature_extraction.text import CountVectorizer\n",
    "from sklearn.base import TransformerMixin\n",
    "from sklearn.pipeline import Pipeline\n",
    "from sklearn.svm import LinearSVC\n",
    "from sklearn.metrics import accuracy_score\n",
    "from nltk.corpus import stopwords\n",
    "import string\n",
    "import re\n",
    "from spacy.lang.pt import Portuguese\n",
    "parser = Portuguese()\n",
    "\n",
    "STOPLIST = set(stopwords.words('portuguese'))\n",
    "SYMBOLS = \" \".join(string.punctuation).split(\" \") + [\"-\", \"...\", \"”\", \"”\"]\n",
    "print(STOPLIST)\n",
    "print(SYMBOLS)"
   ]
  },
  {
   "cell_type": "code",
   "execution_count": 149,
   "metadata": {},
   "outputs": [],
   "source": [
    "class CleanTextTransformer(TransformerMixin):\n",
    "   def transform(self, X, **transform_params):\n",
    "        return [cleanText(text) for text in X]\n",
    "   def fit(self, X, y=None, **fit_params):\n",
    "        return self\n",
    "def get_params(self, deep=True):\n",
    "        return {}\n",
    "    \n",
    "def cleanText(text):\n",
    "    text = str(text)\n",
    "    text = text.strip().replace(\"\\n\", \" \").replace(\"\\r\", \" \")\n",
    "    text = text.lower()\n",
    "    return text\n",
    "def tokenizeText(sample):\n",
    "    tokens = parser(sample)\n",
    "    lemmas = []\n",
    "    for tok in tokens:\n",
    "        lemmas.append(tok.lemma_.lower().strip() if tok.lemma_ != \"-PRON-\" else tok.lower_)\n",
    "    tokens = lemmas\n",
    "    tokens = [tok for tok in tokens if tok not in STOPLIST]\n",
    "    tokens = [tok for tok in tokens if tok not in SYMBOLS]\n",
    "    return tokens\n",
    "\n",
    "\n",
    "def printNMostInformative(vectorizer, clf, N):\n",
    "    feature_names = vectorizer.get_feature_names()\n",
    "    coefs_with_fns = sorted(zip(clf.coef_[0], feature_names))\n",
    "    topClass1 = coefs_with_fns[:N]\n",
    "    topClass2 = coefs_with_fns[:-(N + 1):-1]\n",
    "    print(\"Class 1 best: \")\n",
    "    for feat in topClass1:\n",
    "        print(feat)\n",
    "    print(\"Class 2 best: \")\n",
    "    for feat in topClass2:\n",
    "        print(feat)"
   ]
  },
  {
   "cell_type": "code",
   "execution_count": 134,
   "metadata": {},
   "outputs": [
    {
     "name": "stdout",
     "output_type": "stream",
     "text": [
      "accuracy: 0.38095238095238093\n",
      "Top 10 features used to predict: \n",
      "Class 1 best: \n",
      "(-0.1897694316894422, 'bióloga')\n",
      "(-0.16352729068014382, 'crianças')\n",
      "(-0.16040121422287903, 'podem')\n",
      "(-0.15355964850990578, 'prêmio')\n",
      "(-0.1485849282984244, 'ganha')\n",
      "(-0.14133043547232513, 'alimentos')\n",
      "(-0.13149105459040034, 'designer')\n",
      "(-0.1306967924936315, 'brasileira')\n",
      "(-0.1306967924936315, 'evitar')\n",
      "(-0.1306967924936315, 'internacional')\n",
      "Class 2 best: \n",
      "(0.8801639144445821, 'animais')\n",
      "(0.8208038382932755, 'cães')\n",
      "(0.6095894832153419, 'elefantes')\n",
      "(0.6064773450557794, 'generosidade')\n",
      "(0.5963559602810411, 'abandonados')\n",
      "(0.5328491271379163, 'elefanta')\n",
      "(0.5278134621478181, 'cãozinho')\n",
      "(0.5004308527946235, 'zoológico')\n",
      "(0.49365834443018985, 'menos')\n",
      "(0.48907624780393616, 'cadela')\n"
     ]
    }
   ],
   "source": [
    "vectorizer = CountVectorizer(tokenizer=tokenizeText, ngram_range=(1,1))\n",
    "clf = LinearSVC()\n",
    "\n",
    "pipe = Pipeline([('cleanText', CleanTextTransformer()), ('vectorizer', vectorizer), ('clf', clf)])\n",
    "# data\n",
    "train1 = train[TEXT_VARIABLE].tolist()\n",
    "labelsTrain1 = train[TARGET_VARIABLE].tolist()\n",
    "test1 = test[TEXT_VARIABLE].tolist()\n",
    "labelsTest1 = test[TARGET_VARIABLE].tolist()\n",
    "# train\n",
    "pipe.fit(train1, labelsTrain1)\n",
    "# test\n",
    "preds = pipe.predict(test1)\n",
    "print(\"accuracy:\", accuracy_score(labelsTest1, preds))\n",
    "print(\"Top 10 features used to predict: \")\n",
    "printNMostInformative(vectorizer, clf, 10)"
   ]
  },
  {
   "cell_type": "code",
   "execution_count": 136,
   "metadata": {},
   "outputs": [
    {
     "name": "stdout",
     "output_type": "stream",
     "text": [
      "                  precision    recall  f1-score   support\n",
      "\n",
      "         ANIMAIS       0.44      0.31      0.36        26\n",
      "   SOLIDARIEDADE       0.33      0.35      0.34        20\n",
      "         FAMILIA       0.33      0.17      0.22        12\n",
      "        CRIANCAS       0.00      0.00      0.00         6\n",
      "       PROPOSITO       0.50      0.27      0.35        30\n",
      "     DIVERSIDADE       0.36      0.33      0.35        27\n",
      "        EDUCACAO       0.43      0.68      0.53        41\n",
      "        ECOLOGIA       0.47      0.39      0.43        23\n",
      "           SAUDE       0.33      0.07      0.11        15\n",
      "          IDOSOS       0.29      0.50      0.36         8\n",
      "         CIENCIA       0.40      0.35      0.37        23\n",
      "      CELEBRACAO       0.33      0.17      0.22         6\n",
      "          ETNIAS       1.00      0.25      0.40         4\n",
      "         ESPORTE       0.43      0.58      0.49        26\n",
      "         CULTURA       0.20      0.17      0.18         6\n",
      "EMPREENDEDORISMO       0.24      0.48      0.32        21\n",
      "\n",
      "        accuracy                           0.38       294\n",
      "       macro avg       0.38      0.32      0.32       294\n",
      "    weighted avg       0.39      0.38      0.36       294\n",
      "\n"
     ]
    }
   ],
   "source": [
    "pipe = Pipeline([('cleanText', CleanTextTransformer()), ('vectorizer', vectorizer)])\n",
    "transform = pipe.fit_transform(train1, labelsTrain1)\n",
    "vocab = vectorizer.get_feature_names()\n",
    "for i in range(len(train1)):\n",
    "    s = \"\"\n",
    "    indexIntoVocab = transform.indices[transform.indptr[i]:transform.indptr[i+1]]\n",
    "    numOccurences = transform.data[transform.indptr[i]:transform.indptr[i+1]]\n",
    "    for idx, num in zip(indexIntoVocab, numOccurences):\n",
    "        s += str((vocab[idx], num))\n",
    "        \n",
    "from sklearn import metrics\n",
    "print(metrics.classification_report(labelsTest1, preds, \n",
    "                                    target_names=df_ribon_news[TARGET_VARIABLE].unique()))"
   ]
  },
  {
   "cell_type": "code",
   "execution_count": 137,
   "metadata": {},
   "outputs": [
    {
     "name": "stdout",
     "output_type": "stream",
     "text": [
      "Index(['ID', 'PICK_COUNT', 'CONTENT', 'TITLE', 'LABEL_TRAIN'], dtype='object')\n",
      "Research title sample: Pelo fim da desnutrição no mundo - ONGs que apoiamos\n",
      "Conference of this paper: PROPOSITO\n",
      "Training Data Shape: (594, 2)\n",
      "Testing Data Shape: (294, 2)\n"
     ]
    }
   ],
   "source": [
    "TARGET_VARIABLE = 'LABEL_TRAIN'\n",
    "TEXT_VARIABLE = 'CONTENT'\n",
    "\n",
    "from sklearn.model_selection import train_test_split\n",
    "print(df_ribon_news.columns)\n",
    "train, test = train_test_split(df_ribon_news[[TARGET_VARIABLE, TEXT_VARIABLE]], \n",
    "                                                      test_size=0.33,\n",
    "                                                          random_state=42)\n",
    "print('Research title sample:', train[TEXT_VARIABLE].iloc[0])\n",
    "print('Conference of this paper:', train[TARGET_VARIABLE].iloc[0])\n",
    "print('Training Data Shape:', train.shape)\n",
    "print('Testing Data Shape:', test.shape)"
   ]
  },
  {
   "cell_type": "code",
   "execution_count": 147,
   "metadata": {},
   "outputs": [
    {
     "name": "stdout",
     "output_type": "stream",
     "text": [
      "ECOLOGIA\n"
     ]
    },
    {
     "data": {
      "image/png": "[encoded data removed]",
      "text/plain": [
       "<Figure size 1296x432 with 1 Axes>"
      ]
     },
     "metadata": {
      "needs_background": "light"
     },
     "output_type": "display_data"
    }
   ],
   "source": [
    "most_common_target_label = train[TARGET_VARIABLE].value_counts().idxmax()\n",
    "print(most_common_target_label)\n",
    "most_common_target_text = [str(text) for text in train[train[TARGET_VARIABLE] == most_common_target_label][TEXT_VARIABLE]]\n",
    "most_common_target_clean = cleanup_text(most_common_target_text)\n",
    "most_common_target_clean = ' '.join(most_common_target_clean).split()\n",
    "most_common_target_counts = Counter(most_common_target_clean)\n",
    "most_common_target_common_words = [word[0] for word in most_common_target_counts.most_common(20)]\n",
    "most_common_target_common_counts = [word[1] for word in most_common_target_counts.most_common(20)]\n",
    "fig = plt.figure(figsize=(18,6))\n",
    "sns.barplot(x=most_common_target_common_words, y=most_common_target_common_counts)\n",
    "plt.title('Most Common Words used in ' + TEXT_VARIABLE + ' of ' + most_common_target_label)\n",
    "plt.show()"
   ]
  },
  {
   "cell_type": "code",
   "execution_count": 150,
   "metadata": {},
   "outputs": [
    {
     "name": "stdout",
     "output_type": "stream",
     "text": [
      "accuracy: 0.40476190476190477\n",
      "Top 10 features used to predict: \n",
      "Class 1 best: \n",
      "(-0.16388748360280592, 'nan')\n",
      "(-0.1365728525205211, 'aprender')\n",
      "(-0.11547503559416973, 'mãe')\n",
      "(-0.11206564925547731, 'ribon')\n",
      "(-0.11176435698265817, 'mundo')\n",
      "(-0.09185086969560126, 'crianças')\n",
      "(-0.08344159849899618, 'brasil')\n",
      "(-0.08055984765322166, 'novembro')\n",
      "(-0.08011104064919855, 'deveria')\n",
      "(-0.07928097986012973, 'lugar')\n",
      "Class 2 best: \n",
      "(0.37707075661207545, 'cães')\n",
      "(0.29860793616218634, 'animais')\n",
      "(0.2615604670747089, 'elefantes')\n",
      "(0.2076466726693686, 'pj')\n",
      "(0.20142225512630488, 'cão')\n",
      "(0.18909778754033707, 'separados')\n",
      "(0.18909778754033707, 'lana')\n",
      "(0.18909778754033707, 'compartilha')\n",
      "(0.18909778754033707, 'cobertor')\n",
      "(0.18909778754033707, 'cadelinha')\n"
     ]
    }
   ],
   "source": [
    "vectorizer = CountVectorizer(tokenizer=tokenizeText, ngram_range=(1,1))\n",
    "clf = LinearSVC()\n",
    "\n",
    "pipe = Pipeline([('cleanText', CleanTextTransformer()), ('vectorizer', vectorizer), ('clf', clf)])\n",
    "# data\n",
    "train1 = train[TEXT_VARIABLE].tolist()\n",
    "labelsTrain1 = train[TARGET_VARIABLE].tolist()\n",
    "test1 = test[TEXT_VARIABLE].tolist()\n",
    "labelsTest1 = test[TARGET_VARIABLE].tolist()\n",
    "# train\n",
    "pipe.fit(train1, labelsTrain1)\n",
    "# test\n",
    "preds = pipe.predict(test1)\n",
    "print(\"accuracy:\", accuracy_score(labelsTest1, preds))\n",
    "print(\"Top 10 features used to predict: \")\n",
    "printNMostInformative(vectorizer, clf, 10)"
   ]
  },
  {
   "cell_type": "code",
   "execution_count": 151,
   "metadata": {},
   "outputs": [
    {
     "name": "stdout",
     "output_type": "stream",
     "text": [
      "                  precision    recall  f1-score   support\n",
      "\n",
      "         ANIMAIS       0.64      0.54      0.58        26\n",
      "   SOLIDARIEDADE       0.25      0.15      0.19        20\n",
      "         FAMILIA       0.40      0.17      0.24        12\n",
      "        CRIANCAS       0.00      0.00      0.00         6\n",
      "       PROPOSITO       0.56      0.33      0.42        30\n",
      "     DIVERSIDADE       0.42      0.30      0.35        27\n",
      "        EDUCACAO       0.62      0.78      0.69        41\n",
      "        ECOLOGIA       0.43      0.39      0.41        23\n",
      "           SAUDE       0.00      0.00      0.00        15\n",
      "          IDOSOS       0.50      0.38      0.43         8\n",
      "         CIENCIA       0.43      0.26      0.32        23\n",
      "      CELEBRACAO       0.20      0.17      0.18         6\n",
      "          ETNIAS       1.00      0.25      0.40         4\n",
      "         ESPORTE       0.35      0.58      0.43        26\n",
      "         CULTURA       0.00      0.00      0.00         6\n",
      "EMPREENDEDORISMO       0.22      0.71      0.34        21\n",
      "\n",
      "        accuracy                           0.40       294\n",
      "       macro avg       0.38      0.31      0.31       294\n",
      "    weighted avg       0.42      0.40      0.39       294\n",
      "\n"
     ]
    },
    {
     "name": "stderr",
     "output_type": "stream",
     "text": [
      "/home/dev/PythonEnviroments/developing-fun/local/lib/python3.6/site-packages/sklearn/metrics/_classification.py:1272: UndefinedMetricWarning: Precision and F-score are ill-defined and being set to 0.0 in labels with no predicted samples. Use `zero_division` parameter to control this behavior.\n",
      "  _warn_prf(average, modifier, msg_start, len(result))\n"
     ]
    }
   ],
   "source": [
    "pipe = Pipeline([('cleanText', CleanTextTransformer()), ('vectorizer', vectorizer)])\n",
    "transform = pipe.fit_transform(train1, labelsTrain1)\n",
    "vocab = vectorizer.get_feature_names()\n",
    "for i in range(len(train1)):\n",
    "    s = \"\"\n",
    "    indexIntoVocab = transform.indices[transform.indptr[i]:transform.indptr[i+1]]\n",
    "    numOccurences = transform.data[transform.indptr[i]:transform.indptr[i+1]]\n",
    "    for idx, num in zip(indexIntoVocab, numOccurences):\n",
    "        s += str((vocab[idx], num))\n",
    "        \n",
    "from sklearn import metrics\n",
    "print(metrics.classification_report(labelsTest1, preds, \n",
    "                                    target_names=df_ribon_news[TARGET_VARIABLE].unique()))"
   ]
  },
  {
   "cell_type": "code",
   "execution_count": null,
   "metadata": {},
   "outputs": [],
   "source": []
  }
 ],
 "metadata": {
  "file_extension": ".py",
  "kernelspec": {
   "display_name": "Python 3",
   "language": "python",
   "name": "python3"
  },
  "language_info": {
   "codemirror_mode": {
    "name": "ipython",
    "version": 3
   },
   "file_extension": ".py",
   "mimetype": "text/x-python",
   "name": "python",
   "nbconvert_exporter": "python",
   "pygments_lexer": "ipython3",
   "version": "3.6.9"
  },
  "mimetype": "text/x-python",
  "name": "python",
  "npconvert_exporter": "python",
  "pygments_lexer": "ipython3",
  "version": 3
 },
 "nbformat": 4,
 "nbformat_minor": 2
}
