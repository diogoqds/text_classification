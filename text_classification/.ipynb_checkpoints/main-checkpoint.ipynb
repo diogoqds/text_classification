{
 "cells": [
  {
   "cell_type": "code",
   "execution_count": 53,
   "metadata": {},
   "outputs": [],
   "source": [
    "\"\"\"\n",
    "-*- coding: utf-8 -*-\n",
    "Created on Fri 21 2020\n",
    "@author: Thiago Pinho\n",
    "\"\"\"\n",
    "\n",
    "from sklearn.model_selection import cross_val_score, train_test_split\n",
    "from sklearn.feature_extraction.text import CountVectorizer\n",
    "from sklearn.feature_extraction.text import TfidfTransformer\n",
    "from sklearn.linear_model import SGDClassifier\n",
    "from sklearn.model_selection import GridSearchCV\n",
    "from sklearn.pipeline import Pipeline\n",
    "from sklearn.metrics import accuracy_score, classification_report\n",
    "import spacy\n",
    "from spacy.lang.pt import Portuguese\n",
    "from spacy.lang.pt.stop_words import STOP_WORDS\n",
    "import pandas as pd\n",
    "import numpy as np\n",
    "import seaborn as sns\n",
    "import matplotlib.pyplot as plt\n",
    "from tqdm.notebook import tqdm"
   ]
  },
  {
   "cell_type": "code",
   "execution_count": 2,
   "metadata": {},
   "outputs": [],
   "source": [
    "VECTOR_MODEL_NAME = \"pt_core_news_sm\"\n",
    "RELATIVE_PATH_TO_FOLDER = \"./assets/datasets/ribon/\"\n",
    "DATA_FILENAME = \"Feeds_Label\"\n",
    "nlp = spacy.load(VECTOR_MODEL_NAME)\n",
    "TARGET_VARIABLE = \"LABEL_TRAIN\"\n",
    "TEXT_VARIABLE = \"TITLE\""
   ]
  },
  {
   "cell_type": "code",
   "execution_count": 4,
   "metadata": {},
   "outputs": [
    {
     "name": "stdout",
     "output_type": "stream",
     "text": [
      "   id  pick_count                                            content  \\\n",
      "0  11           0  A forte ligação dos cães com o ser humano desp...   \n",
      "1  12           0  Os chamados muros da gentileza estão promovend...   \n",
      "2   9           0  Alguns de nós sabem a sorte que é ter um irmão...   \n",
      "3   6           0               Temos muito o que aprender com elas.   \n",
      "4   1           0  Esqueça o que te disseram sobre a zona de conf...   \n",
      "\n",
      "                                               title    Label_Train  \n",
      "0  Há mais de 10 anos, dupla de cães 🐶 acompanha ...        Animais  \n",
      "1  Muros da gentileza ajudam desabrigados e famíl...  Solidariedade  \n",
      "2  20 fotos maravilhosas mostrando a alegria de t...        Familia  \n",
      "3  13 razões pelas quais crianças são bem mais es...       Criancas  \n",
      "4  Ex-executiva fala sobre vida sem propósito - I...      Proposito  \n"
     ]
    }
   ],
   "source": [
    "\"\"\"  load the dataset \"\"\"\n",
    "relative_path_file = RELATIVE_PATH_TO_FOLDER + DATA_FILENAME + \".csv\"\n",
    "df_ribon_news = pd.read_csv(relative_path_file)\n",
    "print(df_ribon_news.head())"
   ]
  },
  {
   "cell_type": "code",
   "execution_count": 5,
   "metadata": {},
   "outputs": [
    {
     "name": "stdout",
     "output_type": "stream",
     "text": [
      "   ID  PICK_COUNT                                            CONTENT  \\\n",
      "0  11           0  A forte ligação dos cães com o ser humano desp...   \n",
      "1  12           0  Os chamados muros da gentileza estão promovend...   \n",
      "2   9           0  Alguns de nós sabem a sorte que é ter um irmão...   \n",
      "3   6           0               Temos muito o que aprender com elas.   \n",
      "4   1           0  Esqueça o que te disseram sobre a zona de conf...   \n",
      "\n",
      "                                               TITLE    LABEL_TRAIN  \n",
      "0  Há mais de 10 anos, dupla de cães 🐶 acompanha ...        ANIMAIS  \n",
      "1  Muros da gentileza ajudam desabrigados e famíl...  SOLIDARIEDADE  \n",
      "2  20 fotos maravilhosas mostrando a alegria de t...        FAMILIA  \n",
      "3  13 razões pelas quais crianças são bem mais es...       CRIANCAS  \n",
      "4  Ex-executiva fala sobre vida sem propósito - I...      PROPOSITO  \n"
     ]
    }
   ],
   "source": [
    "\"\"\"  Preprocess the dataset names and values \"\"\"\n",
    "df_ribon_news.columns = map(lambda x: str(x).upper(), df_ribon_news.columns)\n",
    "df_ribon_news[TARGET_VARIABLE] = df_ribon_news[TARGET_VARIABLE].str.upper()\n",
    "\"\"\" Converting all labels to uppercase \"\"\"\n",
    "print(df_ribon_news.head())"
   ]
  },
  {
   "cell_type": "code",
   "execution_count": 5,
   "metadata": {},
   "outputs": [
    {
     "data": {
      "image/png": "[encoded data removed]",
      "text/plain": [
       "<Figure size 1440x576 with 1 Axes>"
      ]
     },
     "metadata": {
      "needs_background": "light"
     },
     "output_type": "display_data"
    }
   ],
   "source": [
    "\"\"\"  Let\"s see how the labels are distributed \"\"\"\n",
    "data_labels_count = df_ribon_news[TARGET_VARIABLE].value_counts()\n",
    "data_labels = data_labels_count.index\n",
    "fig = plt.figure(figsize=(20, 8))\n",
    "sns.barplot(\n",
    "    x=data_labels_count.index,\n",
    "    y=data_labels_count)\n",
    "plt.show()\n"
   ]
  },
  {
   "cell_type": "code",
   "execution_count": 6,
   "metadata": {},
   "outputs": [
    {
     "name": "stdout",
     "output_type": "stream",
     "text": [
      "   ID  PICK_COUNT                                            CONTENT  \\\n",
      "0  11           0  A forte ligação dos cães com o ser humano desp...   \n",
      "1  12           0  Os chamados muros da gentileza estão promovend...   \n",
      "2   9           0  Alguns de nós sabem a sorte que é ter um irmão...   \n",
      "3   6           0               Temos muito o que aprender com elas.   \n",
      "4   1           0  Esqueça o que te disseram sobre a zona de conf...   \n",
      "\n",
      "                                               TITLE    LABEL_TRAIN  \n",
      "0  Há mais de 10 anos, dupla de cães 🐶 acompanha ...        ANIMAIS  \n",
      "1  Muros da gentileza ajudam desabrigados e famíl...  SOLIDARIEDADE  \n",
      "2  20 fotos maravilhosas mostrando a alegria de t...        FAMILIA  \n",
      "3  13 razões pelas quais crianças são bem mais es...       CRIANCAS  \n",
      "4  Ex-executiva fala sobre vida sem propósito - I...      PROPOSITO  \n"
     ]
    }
   ],
   "source": [
    "\n",
    "\"\"\"  Let\"s store the data \"\"\"\n",
    "excel_filename = RELATIVE_PATH_TO_FOLDER + DATA_FILENAME + \"_treated.xlsx\"\n",
    "\n",
    "\"\"\"  Convert the dataframe to an xlsx file \"\"\"\n",
    "df_ribon_news.to_excel(excel_filename)\n",
    "\n",
    "\"\"\"  We then load the data for stability \"\"\"\n",
    "df_ribon_news_treated = pd.read_excel(excel_filename, index_col=0)\n",
    "print(df_ribon_news_treated.head())"
   ]
  },
  {
   "cell_type": "code",
   "execution_count": 7,
   "metadata": {},
   "outputs": [
    {
     "data": {
      "application/vnd.jupyter.widget-view+json": {
       "model_id": "0dc6bcb1afb341ddbb741ddf4f108b3d",
       "version_major": 2,
       "version_minor": 0
      },
      "text/plain": [
       "HBox(children=(FloatProgress(value=0.0, max=16.0), HTML(value='')))"
      ]
     },
     "metadata": {},
     "output_type": "display_data"
    },
    {
     "name": "stdout",
     "output_type": "stream",
     "text": [
      "ECOLOGIA:  129\n",
      "SOLIDARIEDADE:  94\n",
      "PROPOSITO:  86\n",
      "CULTURA:  79\n",
      "DIVERSIDADE:  72\n",
      "ANIMAIS:  67\n",
      "EDUCACAO:  66\n",
      "ETNIAS:  65\n",
      "CELEBRACAO:  56\n",
      "ESPORTE:  34\n",
      "EMPREENDEDORISMO:  32\n",
      "CIENCIA:  31\n",
      "SAUDE:  24\n",
      "CRIANCAS:  19\n",
      "FAMILIA:  19\n",
      "IDOSOS:  15\n",
      "\n"
     ]
    }
   ],
   "source": [
    "data_labels_with_count = df_ribon_news_treated[TARGET_VARIABLE].value_counts()\n",
    "data_labels = data_labels_with_count.index\n",
    "for label in tqdm(data_labels):\n",
    "    print(label + \": \", data_labels_with_count[label])"
   ]
  },
  {
   "cell_type": "code",
   "execution_count": 8,
   "metadata": {},
   "outputs": [],
   "source": [
    "\"\"\" As we have two text variables CONTENT and TITLE.\n",
    "    we can use both of then to improve predictions\n",
    "\"\"\"\n",
    "first_pipeline_text_variable = \"CONTENT\"\n",
    "second_pipeline_text_variable = \"TITLE\"\n",
    "\n",
    "df_first_ribon_news_data = df_ribon_news_treated[\n",
    "    [first_pipeline_text_variable, TARGET_VARIABLE]]\n",
    "df_second_ribon_news_data = df_ribon_news_treated[\n",
    "    [second_pipeline_text_variable, TARGET_VARIABLE]]\n",
    "\n",
    "\"\"\"  Let\"s store the data \"\"\"\n",
    "excel_first_filename = RELATIVE_PATH_TO_FOLDER + DATA_FILENAME +\\\n",
    "    \"_first_data.xlsx\"\n",
    "excel_second_filename = RELATIVE_PATH_TO_FOLDER + DATA_FILENAME +\\\n",
    "    \"_second_data.xlsx\"\n",
    "\n",
    "df_first_ribon_news_data.to_excel(excel_first_filename)\n",
    "df_second_ribon_news_data.to_excel(excel_second_filename)"
   ]
  },
  {
   "cell_type": "code",
   "execution_count": 9,
   "metadata": {},
   "outputs": [
    {
     "data": {
      "application/vnd.jupyter.widget-view+json": {
       "model_id": "eda93274b7294bc583826cd151034cac",
       "version_major": 2,
       "version_minor": 0
      },
      "text/plain": [
       "HBox(children=(FloatProgress(value=0.0, max=16.0), HTML(value='')))"
      ]
     },
     "metadata": {},
     "output_type": "display_data"
    },
    {
     "name": "stdout",
     "output_type": "stream",
     "text": [
      "\n",
      "['ESPORTE', 'EMPREENDEDORISMO', 'CIENCIA', 'SAUDE', 'CRIANCAS', 'FAMILIA', 'IDOSOS']\n"
     ]
    }
   ],
   "source": [
    "''' One possible approach is to group up under represented labels and further\n",
    "    analysis in other pipeline. We analysed the data and found out \n",
    "    that some of the labels are under 40 representations which is pretty low.\n",
    "'''\n",
    "data_labels_count = df_ribon_news_treated[TARGET_VARIABLE].value_counts()\n",
    "data_labels = data_labels_count.index\n",
    "under_represented_labels = [\n",
    "    scarse_label\n",
    "    for scarse_label in tqdm(data_labels)\n",
    "    if data_labels_count[scarse_label] <= 40]\n",
    "print(under_represented_labels)\n",
    "\n"
   ]
  },
  {
   "cell_type": "code",
   "execution_count": 10,
   "metadata": {},
   "outputs": [
    {
     "name": "stdout",
     "output_type": "stream",
     "text": [
      "OUTROS           174\n",
      "ECOLOGIA         129\n",
      "SOLIDARIEDADE     94\n",
      "PROPOSITO         86\n",
      "CULTURA           79\n",
      "DIVERSIDADE       72\n",
      "ANIMAIS           67\n",
      "EDUCACAO          66\n",
      "ETNIAS            65\n",
      "CELEBRACAO        56\n",
      "Name: LABEL_TRAIN, dtype: int64\n"
     ]
    }
   ],
   "source": [
    "''' Now we have found which ones are under represented we'll create a new\n",
    "    DataFrame changing the under represented to OUTROS '''\n",
    "GROUP_TARGET_LABEL = 'OUTROS'\n",
    "df_ribon_news_grouped = df_ribon_news_treated.replace({TARGET_VARIABLE: under_represented_labels}, GROUP_TARGET_LABEL)\n",
    "print(df_ribon_news_grouped[TARGET_VARIABLE].value_counts())"
   ]
  },
  {
   "cell_type": "code",
   "execution_count": 12,
   "metadata": {
    "scrolled": true
   },
   "outputs": [
    {
     "data": {
      "image/png": "[encoded data removed]",
      "text/plain": [
       "<Figure size 1440x576 with 1 Axes>"
      ]
     },
     "metadata": {
      "needs_background": "light"
     },
     "output_type": "display_data"
    }
   ],
   "source": [
    "\"\"\"  Let\"s see how the labels are distributed \"\"\"\n",
    "data_labels_count = df_ribon_news_grouped[TARGET_VARIABLE].value_counts()\n",
    "data_labels = data_labels_count.index\n",
    "fig = plt.figure(figsize=(20, 8))\n",
    "sns.barplot(\n",
    "    x=data_labels_count.index,\n",
    "    y=data_labels_count)\n",
    "plt.show()"
   ]
  },
  {
   "cell_type": "code",
   "execution_count": 11,
   "metadata": {},
   "outputs": [],
   "source": [
    "\"\"\" As we have two text variables CONTENT and TITLE.\n",
    "    we can use both of then to improve predictions\n",
    "\"\"\"\n",
    "first_pipeline_text_variable = \"CONTENT\"\n",
    "second_pipeline_text_variable = \"TITLE\"\n",
    "\n",
    "df_first_ribon_news_data_grouped = df_ribon_news_grouped[\n",
    "    [first_pipeline_text_variable, TARGET_VARIABLE]]\n",
    "df_second_ribon_news_data_grouped = df_ribon_news_grouped[\n",
    "    [second_pipeline_text_variable, TARGET_VARIABLE]]\n"
   ]
  },
  {
   "cell_type": "code",
   "execution_count": 13,
   "metadata": {},
   "outputs": [],
   "source": [
    "excel_first_filename = RELATIVE_PATH_TO_FOLDER + DATA_FILENAME +\\\n",
    "    \"_first_data_grouped.xlsx\"\n",
    "excel_second_filename = RELATIVE_PATH_TO_FOLDER + DATA_FILENAME +\\\n",
    "    \"_second_data_grouped.xlsx\""
   ]
  },
  {
   "cell_type": "code",
   "execution_count": 14,
   "metadata": {},
   "outputs": [],
   "source": [
    "\"\"\"  Let\"s store the data \"\"\"\n",
    "df_first_ribon_news_data_grouped.to_excel(excel_first_filename)\n",
    "df_second_ribon_news_data_grouped.to_excel(excel_second_filename)"
   ]
  },
  {
   "cell_type": "code",
   "execution_count": 15,
   "metadata": {},
   "outputs": [
    {
     "name": "stdout",
     "output_type": "stream",
     "text": [
      "                                             CONTENT    LABEL_TRAIN\n",
      "0  A forte ligação dos cães com o ser humano desp...        ANIMAIS\n",
      "1  Os chamados muros da gentileza estão promovend...  SOLIDARIEDADE\n",
      "2  Alguns de nós sabem a sorte que é ter um irmão...         OUTROS\n",
      "3               Temos muito o que aprender com elas.         OUTROS\n",
      "4  Esqueça o que te disseram sobre a zona de conf...      PROPOSITO\n",
      "                                               TITLE    LABEL_TRAIN\n",
      "0  Há mais de 10 anos, dupla de cães 🐶 acompanha ...        ANIMAIS\n",
      "1  Muros da gentileza ajudam desabrigados e famíl...  SOLIDARIEDADE\n",
      "2  20 fotos maravilhosas mostrando a alegria de t...         OUTROS\n",
      "3  13 razões pelas quais crianças são bem mais es...         OUTROS\n",
      "4  Ex-executiva fala sobre vida sem propósito - I...      PROPOSITO\n"
     ]
    }
   ],
   "source": [
    "\"\"\"  We then load the data for stability \"\"\"\n",
    "df_first_data = pd.read_excel(excel_first_filename, index_col=0)\n",
    "df_second_data = pd.read_excel(excel_second_filename, index_col=0)\n",
    "print(df_first_data.head())\n",
    "print(df_second_data.head())"
   ]
  },
  {
   "cell_type": "code",
   "execution_count": 16,
   "metadata": {},
   "outputs": [
    {
     "data": {
      "application/vnd.jupyter.widget-view+json": {
       "model_id": "d732bfac8eb14232b47d711f0fb6954d",
       "version_major": 2,
       "version_minor": 0
      },
      "text/plain": [
       "HBox(children=(FloatProgress(value=0.0, max=888.0), HTML(value='')))"
      ]
     },
     "metadata": {},
     "output_type": "display_data"
    },
    {
     "name": "stdout",
     "output_type": "stream",
     "text": [
      "\n",
      "['tagger', 'sentencizer', 'parser', 'ner']\n"
     ]
    },
    {
     "data": {
      "application/vnd.jupyter.widget-view+json": {
       "model_id": "d50378118e8f4eedbc734f805e89d47a",
       "version_major": 2,
       "version_minor": 0
      },
      "text/plain": [
       "HBox(children=(FloatProgress(value=0.0, max=888.0), HTML(value='')))"
      ]
     },
     "metadata": {},
     "output_type": "display_data"
    },
    {
     "name": "stdout",
     "output_type": "stream",
     "text": [
      "\n"
     ]
    }
   ],
   "source": [
    "raw_text_data = df_first_data[first_pipeline_text_variable].to_list()\n",
    "\n",
    "preprocessed_text_data = [str(raw_text) for raw_text in tqdm(raw_text_data)]\n",
    "''' Not all variables are being undestood as strings so we have to force it'''\n",
    "\n",
    "nlp = spacy.load(VECTOR_MODEL_NAME)\n",
    "''' We an already trained model to process portuguese '''\n",
    "\n",
    "sentencizer = nlp.create_pipe('sentencizer')\n",
    "''' Create the pipeline 'sentencizer' component '''\n",
    "\n",
    "nlp.add_pipe(sentencizer, before='parser')\n",
    "''' We then add the component to the pipeline '''\n",
    "print(nlp.pipe_names)\n",
    "\n",
    "processed_text_data = []\n",
    "lemmatized_doc = []\n",
    "for row in tqdm(preprocessed_text_data):\n",
    "    doc = nlp(row)\n",
    "    processed_text_data.append(doc)\n",
    "    lemmatized_doc.append(str([word.lemma_ for word in doc if not word.is_stop]))"
   ]
  },
  {
   "cell_type": "code",
   "execution_count": 17,
   "metadata": {},
   "outputs": [
    {
     "name": "stdout",
     "output_type": "stream",
     "text": [
      "                                PREPROCESSED_TEXT_DATA  \\\n",
      "0    A forte ligação dos cães com o ser humano desp...   \n",
      "1    Os chamados muros da gentileza estão promovend...   \n",
      "2    Alguns de nós sabem a sorte que é ter um irmão...   \n",
      "3                 Temos muito o que aprender com elas.   \n",
      "4    Esqueça o que te disseram sobre a zona de conf...   \n",
      "..                                                 ...   \n",
      "883  Ingrid Silva ficou famosa ao pintar suas sapat...   \n",
      "884  Apesar de ser a atual campeã mundial de futsal...   \n",
      "885  Aquele pó de café que sobra no coador e é desc...   \n",
      "886  Todos os dias, pessoas são forçadas a deixar e...   \n",
      "887  Naiumy do Reis, 16, tem gênio forte e é cheia ...   \n",
      "\n",
      "                                   PROCESSED_TEXT_DATA  \\\n",
      "0    (A, forte, ligação, dos, cães, com, o, ser, hu...   \n",
      "1    (Os, chamados, muros, da, gentileza, estão, pr...   \n",
      "2    (Alguns, de, nós, sabem, a, sorte, que, é, ter...   \n",
      "3       (Temos, muito, o, que, aprender, com, elas, .)   \n",
      "4    (Esqueça, o, que, te, disseram, sobre, a, zona...   \n",
      "..                                                 ...   \n",
      "883  (Ingrid, Silva, ficou, famosa, a, o, pintar, s...   \n",
      "884  (Apesar, de, ser, a, atual, campeã, mundial, d...   \n",
      "885  (Aquele, pó, de, café, que, sobra, no, coador,...   \n",
      "886  (Todos, os, dias, ,, pessoas, são, forçadas, a...   \n",
      "887  (Naiumy, do, Reis, ,, 16, ,, tem, gênio, forte...   \n",
      "\n",
      "                                        LEMMATIZED_DOC    LABEL_TRAIN  \n",
      "0    ['A', 'forte', 'ligação', 'cão', 'o', 'humanar...        ANIMAIS  \n",
      "1    ['chamar', 'muro', 'gentileza', 'promover', 'o...  SOLIDARIEDADE  \n",
      "2    ['saber', 'o', 'sortir', 'irmão', 'irmão', ','...         OUTROS  \n",
      "3                               ['o', 'aprender', '.']         OUTROS  \n",
      "4    ['Esqueça', 'o', 'dizer', 'o', 'zonar', 'confo...      PROPOSITO  \n",
      "..                                                 ...            ...  \n",
      "883  ['Ingrid', 'Silva', 'ficar', 'famoso', 'o', 'o...     CELEBRACAO  \n",
      "884  ['Apesar', 'o', 'atual', 'campeão', 'mundial',...         OUTROS  \n",
      "885  ['pó', 'café', 'sobrar', 'coador', 'e', 'desca...       ECOLOGIA  \n",
      "886  ['dia', ',', 'pessoa', 'forçar', 'o', 'deixar'...  SOLIDARIEDADE  \n",
      "887  ['Naiumy', 'Reis', ',', '16', ',', 'gênio', 'f...    DIVERSIDADE  \n",
      "\n",
      "[888 rows x 4 columns]\n"
     ]
    }
   ],
   "source": [
    "df_processed_data = pd.DataFrame()\n",
    "df_processed_data['PREPROCESSED_TEXT_DATA'] = preprocessed_text_data\n",
    "df_processed_data['PROCESSED_TEXT_DATA'] = processed_text_data\n",
    "df_processed_data['LEMMATIZED_DOC'] = lemmatized_doc\n",
    "df_processed_data[TARGET_VARIABLE] = df_first_data[TARGET_VARIABLE]\n",
    "print(df_processed_data)"
   ]
  },
  {
   "cell_type": "code",
   "execution_count": 18,
   "metadata": {},
   "outputs": [],
   "source": [
    "\"\"\"  Let\"s store the data \"\"\"\n",
    "excel_filename = RELATIVE_PATH_TO_FOLDER + DATA_FILENAME +\\\n",
    "    \"_parsed_data.xlsx\""
   ]
  },
  {
   "cell_type": "code",
   "execution_count": 19,
   "metadata": {},
   "outputs": [],
   "source": [
    "df_processed_data.to_excel(excel_filename)"
   ]
  },
  {
   "cell_type": "code",
   "execution_count": 20,
   "metadata": {},
   "outputs": [
    {
     "name": "stdout",
     "output_type": "stream",
     "text": [
      "                              PREPROCESSED_TEXT_DATA  \\\n",
      "0  A forte ligação dos cães com o ser humano desp...   \n",
      "1  Os chamados muros da gentileza estão promovend...   \n",
      "2  Alguns de nós sabem a sorte que é ter um irmão...   \n",
      "3               Temos muito o que aprender com elas.   \n",
      "4  Esqueça o que te disseram sobre a zona de conf...   \n",
      "\n",
      "                                 PROCESSED_TEXT_DATA  \\\n",
      "0  A forte ligação dos cães com o ser humano desp...   \n",
      "1  Os chamados muros da gentileza estão promovend...   \n",
      "2  Alguns de nós sabem a sorte que é ter um irmão...   \n",
      "3               Temos muito o que aprender com elas.   \n",
      "4  Esqueça o que te disseram sobre a zona de conf...   \n",
      "\n",
      "                                      LEMMATIZED_DOC    LABEL_TRAIN  \n",
      "0  ['A', 'forte', 'ligação', 'cão', 'o', 'humanar...        ANIMAIS  \n",
      "1  ['chamar', 'muro', 'gentileza', 'promover', 'o...  SOLIDARIEDADE  \n",
      "2  ['saber', 'o', 'sortir', 'irmão', 'irmão', ','...         OUTROS  \n",
      "3                             ['o', 'aprender', '.']         OUTROS  \n",
      "4  ['Esqueça', 'o', 'dizer', 'o', 'zonar', 'confo...      PROPOSITO  \n"
     ]
    }
   ],
   "source": [
    "\"\"\"  We then load the data for stability \"\"\"\n",
    "df_processed_data = pd.read_excel(excel_filename, index_col=0)\n",
    "print(df_processed_data.head())"
   ]
  },
  {
   "cell_type": "code",
   "execution_count": 43,
   "metadata": {},
   "outputs": [],
   "source": [
    "''' Best parameter using GridSearch (CV score=0.535):\n",
    "{'clf__alpha': 1e-05, 'clf__max_iter': 80, 'clf__penalty': 'l2', 'tfidf__norm': 'l1',\n",
    "'tfidf__use_idf': True, 'vect__max_df': 0.5, 'vect__max_features': None, 'vect__ngram_range': (1, 2)}\n",
    "'''\n",
    "''' Text Filter\n",
    "    This part is responsible to give weights to important tokens and remove\n",
    "    weight for unwanted ones or those who can be misguiding.\n",
    "    - Frequency Counter\n",
    "    - Id-IdF Counter\n",
    "'''\n",
    "count_vectorizer = CountVectorizer(\n",
    "    max_features=None, max_df=0.5, ngram_range=(1, 2))\n",
    "tfidf_transformer = TfidfTransformer(norm='l1', use_idf='True')\n",
    "\n",
    "''' Let's transform the lemmatized documents into count vectors '''\n",
    "count_vectors = count_vectorizer.fit_transform(\n",
    "    df_processed_data['LEMMATIZED_DOC'])\n",
    "\n",
    "''' Then use those count vectors to generate frequency vectors '''\n",
    "frequency_vectors = tfidf_transformer.fit_transform(count_vectors)"
   ]
  },
  {
   "cell_type": "code",
   "execution_count": 45,
   "metadata": {
    "scrolled": true
   },
   "outputs": [
    {
     "name": "stdout",
     "output_type": "stream",
     "text": [
      "Mean accuracy for explicit pipeline:  0.49656573351107725\n",
      "Mean accuracy for implicit pipeline:  0.5370275791624105\n"
     ]
    }
   ],
   "source": [
    "''' Model Train and Evaluation\n",
    "'''\n",
    "\n",
    "clf = SGDClassifier(alpha=1e-05, max_iter=80, penalty='l2')\n",
    "pipeline_simple = Pipeline([\n",
    "    ('clf', clf)\n",
    "])\n",
    "pipeline = Pipeline([\n",
    "    ('count_vectorizer', count_vectorizer),\n",
    "    ('tfidf_transformer', tfidf_transformer),\n",
    "    ('clf', clf)\n",
    "])\n",
    "''' Let's use cross validation to better evaluate models ''' \n",
    "scores = cross_val_score(\n",
    "    pipeline_simple,\n",
    "    frequency_vectors,\n",
    "    df_processed_data[TARGET_VARIABLE], cv=5)\n",
    "print(\"Mean accuracy for explicit pipeline: \", scores.mean())\n",
    "\n",
    "scores = cross_val_score(\n",
    "    pipeline,\n",
    "    df_processed_data['LEMMATIZED_DOC'],\n",
    "    df_processed_data[TARGET_VARIABLE], cv=10)\n",
    "print(\"Mean accuracy for implicit pipeline: \", scores.mean())"
   ]
  },
  {
   "cell_type": "code",
   "execution_count": 54,
   "metadata": {},
   "outputs": [
    {
     "name": "stdout",
     "output_type": "stream",
     "text": [
      "accuracy: 0.5544217687074829\n",
      "               precision    recall  f1-score   support\n",
      "\n",
      "      ANIMAIS       0.82      0.69      0.75        26\n",
      "SOLIDARIEDADE       0.20      0.05      0.08        20\n",
      "       OUTROS       0.69      0.60      0.64        30\n",
      "    PROPOSITO       0.71      0.37      0.49        27\n",
      "  DIVERSIDADE       0.69      0.80      0.74        41\n",
      "     EDUCACAO       0.50      0.35      0.41        23\n",
      "     ECOLOGIA       0.50      0.39      0.44        23\n",
      "   CELEBRACAO       0.46      0.65      0.54        57\n",
      "       ETNIAS       0.67      0.54      0.60        26\n",
      "      CULTURA       0.35      0.71      0.47        21\n",
      "\n",
      "     accuracy                           0.55       294\n",
      "    macro avg       0.56      0.52      0.52       294\n",
      " weighted avg       0.57      0.55      0.54       294\n",
      "\n"
     ]
    }
   ],
   "source": [
    "''' Let's evaluate more deeply the best model '''\n",
    "X_train, X_test, y_train, y_test = train_test_split(\n",
    "    df_processed_data['LEMMATIZED_DOC'],\n",
    "    df_processed_data[TARGET_VARIABLE],\n",
    "    test_size=0.33, random_state=42)\n",
    "\n",
    "train1 = X_train.tolist()\n",
    "labelsTrain1 = y_train.tolist()\n",
    "test1 = X_test.tolist()\n",
    "labelsTest1 = y_test.tolist()\n",
    "\"\"\"  train \"\"\"\n",
    "pipeline.fit(train1, labelsTrain1)\n",
    "\"\"\"  test \"\"\"\n",
    "preds = pipeline.predict(test1)\n",
    "print(\"accuracy:\", accuracy_score(labelsTest1, preds))\n",
    "print(\n",
    "    classification_report(\n",
    "        labelsTest1,\n",
    "        preds,\n",
    "        target_names=df_processed_data[TARGET_VARIABLE].unique()))\n"
   ]
  },
  {
   "cell_type": "code",
   "execution_count": null,
   "metadata": {},
   "outputs": [],
   "source": []
  }
 ],
 "metadata": {
  "kernelspec": {
   "display_name": "Python 3",
   "language": "python",
   "name": "python3"
  },
  "language_info": {
   "codemirror_mode": {
    "name": "ipython",
    "version": 3
   },
   "file_extension": ".py",
   "mimetype": "text/x-python",
   "name": "python",
   "nbconvert_exporter": "python",
   "pygments_lexer": "ipython3",
   "version": "3.6.9"
  }
 },
 "nbformat": 4,
 "nbformat_minor": 4
}
